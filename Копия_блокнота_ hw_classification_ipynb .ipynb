{
  "cells": [
    {
      "cell_type": "markdown",
      "metadata": {
        "id": "IlkaGk5O3zPn"
      },
      "source": [
        "# Classification. Linear models and KNN"
      ]
    },
    {
      "cell_type": "code",
      "execution_count": 285,
      "metadata": {
        "id": "XcvMvcgj3zPq"
      },
      "outputs": [],
      "source": [
        "import os\n",
        "import numpy as np\n",
        "import pandas as pd\n",
        "import seaborn as sns\n",
        "import matplotlib.pyplot as plt\n",
        "import math"
      ]
    },
    {
      "cell_type": "code",
      "execution_count": 286,
      "metadata": {
        "id": "lcW9PQsy3zPu"
      },
      "outputs": [],
      "source": [
        "from sklearn.pipeline import Pipeline\n",
        "from sklearn.compose import ColumnTransformer\n",
        "from sklearn.model_selection import train_test_split, cross_validate\n",
        "from sklearn.metrics import plot_confusion_matrix, accuracy_score\n",
        "from sklearn.neighbors import KNeighborsClassifier\n",
        "from sklearn.preprocessing import StandardScaler, OneHotEncoder"
      ]
    },
    {
      "cell_type": "markdown",
      "metadata": {
        "id": "TFtnujrl3zPw"
      },
      "source": [
        "## Part 1: Implementing Logistic Regression"
      ]
    },
    {
      "cell_type": "markdown",
      "metadata": {
        "id": "IHCbtbWI3zPx"
      },
      "source": [
        "In this task you need to implement Logistic Regression with l2 regularization using gradient descent algorithm."
      ]
    },
    {
      "cell_type": "markdown",
      "metadata": {
        "id": "EXjb7VDO3zPz"
      },
      "source": [
        "Logistic Regression loss:\n",
        "$$ L(w) = \\dfrac{1}{N}\\sum_{i=1}^N \\log(1 + e^{-\\langle w, x_i \\rangle y_i}) + \\frac{1}{2C} \\lVert w \\rVert^2  \\to \\min_w$$\n",
        "$$\\langle w, x_i \\rangle = \\sum_{j=1}^n w_{j}x_{ij} + w_{0},$$ $$ y_{i} \\in \\{-1, 1\\}$$ where $n$ is the number of features and $N$ is the number of samples."
      ]
    },
    {
      "cell_type": "markdown",
      "metadata": {
        "id": "Mb17YbJ_3zP9"
      },
      "source": [
        "Gradient descent step:\n",
        "$$w^{(t+1)} := w^{(t)} + \\dfrac{\\eta}{N}\\sum_{i=1}^N y_ix_i \\Big(1 - \\dfrac{1}{1 + exp(-\\langle w^{(t)}, x_i \\rangle y_i)}\\Big) - \\eta \\frac{1}{C} w,$$\n",
        "where $\\eta$ is the learning rate."
      ]
    },
    {
      "cell_type": "markdown",
      "metadata": {
        "id": "ihqdZmzI3zP_"
      },
      "source": [
        "**(2 points)** Implement the algorithm and use it to classify the digits (https://scikit-learn.org/stable/modules/generated/sklearn.datasets.load_digits.html) into \"even\" and \"odd\" categories. \"Even\" and \"Odd\" classes  should correspond to {-1, 1} labels."
      ]
    },
    {
      "cell_type": "markdown",
      "metadata": {
        "id": "hpy9mb533zQA"
      },
      "source": [
        "Stopping criteria: either the number of iterations exceeds *max_iter* or $||w^{(t+1)} - w^{(t)}||_2 < tol$."
      ]
    },
    {
      "cell_type": "code",
      "execution_count": 287,
      "metadata": {
        "id": "gRSyhtUB3zQC"
      },
      "outputs": [],
      "source": [
        "from sklearn.exceptions import NotFittedError"
      ]
    },
    {
      "cell_type": "code",
      "execution_count": 288,
      "metadata": {
        "id": "SQ2kXVgV3zQE"
      },
      "outputs": [],
      "source": [
        "class CustomLogisticRegression:\n",
        "    _estimator_type = \"classifier\"\n",
        "    \n",
        "    def __init__(self, eta=0.001, max_iter=1000, C=1.0, tol=1e-5, random_state=42, zero_init=False):\n",
        "        \"\"\"Logistic Regression classifier.\n",
        "        \n",
        "        Args:\n",
        "            eta: float, default=0.001\n",
        "                Learning rate.\n",
        "            max_iter: int, default=1000\n",
        "                Maximum number of iterations taken for the solvers to converge.\n",
        "            C: float, default=1.0\n",
        "                Inverse of regularization strength; must be a positive float.\n",
        "                Smaller values specify stronger regularization.\n",
        "            tol: float, default=1e-5\n",
        "                Tolerance for stopping criteria.\n",
        "            random_state: int, default=42\n",
        "                Random state.\n",
        "            zero_init: bool, default=False\n",
        "                Zero weight initialization.\n",
        "        \"\"\"\n",
        "        self.eta = eta\n",
        "        self.max_iter = max_iter\n",
        "        self.C = C\n",
        "        self.tol = tol\n",
        "        self.random_state = np.random.RandomState(seed=random_state)\n",
        "        self.zero_init = zero_init\n",
        "         \n",
        "    def get_sigmoid(self, X, weights):\n",
        "        \"\"\"Compute the sigmoid value.\"\"\"\n",
        "        # if X >= 0:\n",
        "        return 1/(1+np.exp(-np.transpose(X@weights)))\n",
        "        # else:\n",
        "        #   return np.exp(X)/(1 + np.exp(X))\n",
        "        \n",
        "            \n",
        "    def get_loss(self, x, weights, y):\n",
        "        \"\"\"Calculate the loss.\"\"\"\n",
        "        return (np.sum(-y * np.log(y) - (1 - x) * np.log(1 - y))).mean()\n",
        "        # m = x.shape[1]\n",
        "        # return -1/m * (np.dot(x.T, np.log(y)) + np.dot((1-x).T, np.log(1-y)))\n",
        "\n",
        "     \n",
        "    def fit(self, X, y):\n",
        "        \"\"\"Fit the model.\n",
        "        \n",
        "        Args:\n",
        "            X: numpy array of shape (n_samples, n_features)\n",
        "            y: numpy array of shape (n_samples,)\n",
        "                Target vector.        \n",
        "        \"\"\"\n",
        "        X_ext = np.hstack([np.ones((X.shape[0], 1)), X]) # a constant feature is included to handle intercept\n",
        "        num_features = X_ext.shape[1]\n",
        "        if self.zero_init:\n",
        "            self.weights_ = np.zeros(num_features) \n",
        "        else:\n",
        "            weight_threshold = 1.0 / (2 * num_features)\n",
        "            self.weights_ = self.random_state.uniform(low=-weight_threshold,\n",
        "                                                      high=weight_threshold, size=num_features) # random weight initialization\n",
        "        \n",
        "        for i in range(self.max_iter):\n",
        "            #h = self.get_sigmoid(self, X)\n",
        "            #delta = np.dot(X[i].T, (h-y[i]))/y[i].size\n",
        "            #delta = (1/X.shape[0]) * np.dot(X[i].T, get_sigmoid(np.dot(X,self.weights_))-y)\n",
        "            #delta = (1/X.shape[0]) * np.sum(y*np.log(get_sigmoid(X@self.weights_)) + (1-y)*np.log(1-get_sigmoid(X@self.weights_)))\n",
        "            \n",
        "            # delta = np.zeros(num_features)\n",
        "            # for j in range(num_features):\n",
        "            #     m = self.weights_ @ X_ext[j]\n",
        "            #     delta += y[j]*X_ext[j,:] * (1 - 1/(1 + np.exp(-m*y[j]))) / len(y)  \n",
        "            delta = - X_ext.T @ (y * (1 - 1 / (1 + np.exp(-(self.weights_ @ X_ext.T) * y)))) / len(y) + (self.weights_ / self.C)            \n",
        "            delta -= (1/self.C) * self.weights_\n",
        "            self.weights_ -= self.eta * delta\n",
        "\n",
        "            if np.linalg.norm(self.eta*delta) < self.tol:\n",
        "                break\n",
        "            # if np.linalg.norm(delta) < self.tol:\n",
        "            #     break\n",
        "     \n",
        "    def predict_proba(self, X):\n",
        "        \"\"\"Predict positive class probabilities.\n",
        "        \n",
        "        Args:\n",
        "            X: numpy array of shape (n_samples, n_features)\n",
        "        Returns:\n",
        "            y: numpy array of shape (n_samples,)\n",
        "                Vector containing positive class probabilities.\n",
        "        \"\"\"\n",
        "        X_ext = np.hstack([np.ones((X.shape[0], 1)), X])\n",
        "        if hasattr(self, 'weights_'):\n",
        "            return self.get_sigmoid(X_ext, self.weights_)\n",
        "        else: \n",
        "            raise NotFittedError(\"CustomLogisticRegression instance is not fitted yet\")\n",
        "    \n",
        "    def predict(self, X):\n",
        "        \"\"\"Predict classes.\n",
        "        \n",
        "        Args:\n",
        "            X: numpy array of shape (n_samples, n_features)\n",
        "        Returns:\n",
        "            y: numpy array of shape (n_samples,)\n",
        "                Vector containing predicted class labels.\n",
        "        \"\"\"\n",
        "        # return self.predict_proba(X)\n",
        "        if self.predict_proba(X)> 0.5:\n",
        "            return 1\n",
        "        else:\n",
        "            return -1\n",
        "        "
      ]
    },
    {
      "cell_type": "code",
      "execution_count": 289,
      "metadata": {
        "id": "pqhI2_1y3zQH"
      },
      "outputs": [],
      "source": [
        "from sklearn import datasets\n",
        "from sklearn import metrics"
      ]
    },
    {
      "cell_type": "code",
      "execution_count": 290,
      "metadata": {
        "id": "wyLMDEyk3zQJ",
        "colab": {
          "base_uri": "https://localhost:8080/",
          "height": 307
        },
        "outputId": "12de4c39-d3f3-4e1c-d4fd-3688b25ef1ef"
      },
      "outputs": [
        {
          "output_type": "display_data",
          "data": {
            "text/plain": [
              "<Figure size 720x360 with 21 Axes>"
            ],
            "image/png": "[encoded data removed]"
          },
          "metadata": {
            "needs_background": "light"
          }
        }
      ],
      "source": [
        "X, y = datasets.load_digits(n_class=10, return_X_y=True)\n",
        "\n",
        "_, axes = plt.subplots(nrows=3, ncols=7, figsize=(10, 5))\n",
        "for ax, image, label in zip(axes.flatten(), X, y):\n",
        "    ax.set_axis_off()\n",
        "    ax.imshow(image.reshape((8, 8)), cmap=plt.cm.gray_r if label % 2 else plt.cm.afmhot_r)\n",
        "    ax.set_title(label)\n",
        "\n",
        "X_train, X_test, y_train, y_test = train_test_split(X, y, test_size=0.2, shuffle=True, random_state=42)\n",
        "#y_train = \"<your code>\"\n",
        "#y_test = \"<your code>\"\n",
        "y_train = (y_train % 2) * 2 - 1\n",
        "y_test = (y_test % 2) * 2 - 1"
      ]
    },
    {
      "cell_type": "code",
      "execution_count": 291,
      "metadata": {
        "id": "QtN1LMi13zQK"
      },
      "outputs": [],
      "source": [
        "assert (np.unique(y_train) == [-1, 1]).all()\n",
        "assert (np.unique(y_test) == [-1, 1]).all()"
      ]
    },
    {
      "cell_type": "code",
      "execution_count": 292,
      "metadata": {
        "id": "jICcgCwR3zQL"
      },
      "outputs": [],
      "source": [
        "def fit_evaluate(clf, X_train, y_train, X_test, y_test):\n",
        "    clf.fit(X_train, y_train)\n",
        "    disp = metrics.plot_confusion_matrix(clf, X_test, y_test, normalize='true')\n",
        "    disp.figure_.suptitle(\"Confusion Matrix\")\n",
        "    plt.show()\n",
        "    \n",
        "    return metrics.accuracy_score(y_pred=clf.predict(X_train), y_true=y_train), \\\n",
        "           metrics.accuracy_score(y_pred=clf.predict(X_test), y_true=y_test)"
      ]
    },
    {
      "cell_type": "code",
      "execution_count": 293,
      "metadata": {
        "id": "S6Wluwwb3zQN"
      },
      "outputs": [],
      "source": [
        "lr_clf = CustomLogisticRegression(max_iter=1, zero_init=True)"
      ]
    },
    {
      "cell_type": "code",
      "execution_count": 294,
      "metadata": {
        "id": "PGnkqXKm3zQP"
      },
      "outputs": [],
      "source": [
        "assert np.allclose(lr_clf.get_sigmoid(np.array([[0.5, 0, 1.0], [0.3, 1.3, 1.0]]), np.array([0.5, -0.5, 0.1])),\n",
        "                   np.array([0.58662, 0.40131]))"
      ]
    },
    {
      "cell_type": "code",
      "execution_count": 295,
      "metadata": {
        "id": "hlnxr2T33zQQ"
      },
      "outputs": [],
      "source": [
        "lr_clf.fit(X_train, y_train)"
      ]
    },
    {
      "cell_type": "code",
      "source": [
        "lr_clf.weights_"
      ],
      "metadata": {
        "colab": {
          "base_uri": "https://localhost:8080/"
        },
        "id": "NkCjR5aC6u4l",
        "outputId": "f6f2ea06-d3dd-41ae-8a26-fa1a0d217308"
      },
      "execution_count": 296,
      "outputs": [
        {
          "output_type": "execute_result",
          "data": {
            "text/plain": [
              "array([ 3.13152401e-06,  0.00000000e+00,  4.17536534e-05,  5.47668754e-04,\n",
              "        2.21294363e-04,  4.87473904e-04,  1.35768963e-03,  5.97773138e-04,\n",
              "        5.63674322e-05, -6.95894224e-07,  1.69102296e-04,  2.51913709e-04,\n",
              "       -4.37021573e-04,  3.61864997e-04,  1.00487126e-03,  4.22755741e-04,\n",
              "        2.57480863e-05,  3.47947112e-07, -1.14822547e-05, -7.24425887e-04,\n",
              "       -2.62004175e-04,  8.75434934e-04,  4.15448852e-04, -8.42032011e-05,\n",
              "       -5.21920668e-06,  0.00000000e+00, -2.21642310e-04, -5.71329158e-04,\n",
              "        9.85734168e-04,  1.35073069e-03,  5.02087683e-04, -1.70494085e-04,\n",
              "       -1.04384134e-06,  0.00000000e+00, -6.78148921e-04, -1.05149617e-03,\n",
              "       -4.45372303e-05,  3.71607516e-04,  4.21016006e-04, -8.17675713e-05,\n",
              "        0.00000000e+00, -5.21920668e-06, -5.34098817e-04, -2.03931802e-03,\n",
              "       -8.43075852e-04,  1.04036186e-04, -1.23869172e-04, -1.78844816e-04,\n",
              "       -1.32219903e-05, -4.52331246e-06, -9.42936674e-05, -1.11273486e-03,\n",
              "       -5.09046625e-04, -2.18510786e-04, -5.60542797e-04, -3.95615866e-04,\n",
              "       -1.77453027e-05, -3.47947112e-07,  2.67919276e-05,  6.39178845e-04,\n",
              "        1.80932498e-04, -7.36604036e-04, -5.39318024e-04, -3.70563674e-04,\n",
              "       -2.81837161e-05])"
            ]
          },
          "metadata": {},
          "execution_count": 296
        }
      ]
    },
    {
      "cell_type": "code",
      "execution_count": 297,
      "metadata": {
        "id": "RJPhmX643zQR"
      },
      "outputs": [],
      "source": [
        "assert np.allclose(lr_clf.weights_, np.array([ 3.1000e-06,  0.0000e+00,  4.1800e-05,  5.4770e-04,  2.2130e-04,\n",
        "        4.8750e-04,  1.3577e-03,  5.9780e-04,  5.6400e-05, -7.0000e-07,\n",
        "        1.6910e-04,  2.5190e-04, -4.3700e-04,  3.6190e-04,  1.0049e-03,\n",
        "        4.2280e-04,  2.5700e-05,  3.0000e-07, -1.1500e-05, -7.2440e-04,\n",
        "       -2.6200e-04,  8.7540e-04,  4.1540e-04, -8.4200e-05, -5.2000e-06,\n",
        "        0.0000e+00, -2.2160e-04, -5.7130e-04,  9.8570e-04,  1.3507e-03,\n",
        "        5.0210e-04, -1.7050e-04, -1.0000e-06,  0.0000e+00, -6.7810e-04,\n",
        "       -1.0515e-03, -4.4500e-05,  3.7160e-04,  4.2100e-04, -8.1800e-05,\n",
        "        0.0000e+00, -5.2000e-06, -5.3410e-04, -2.0393e-03, -8.4310e-04,\n",
        "        1.0400e-04, -1.2390e-04, -1.7880e-04, -1.3200e-05, -4.5000e-06,\n",
        "       -9.4300e-05, -1.1127e-03, -5.0900e-04, -2.1850e-04, -5.6050e-04,\n",
        "       -3.9560e-04, -1.7700e-05, -3.0000e-07,  2.6800e-05,  6.3920e-04,\n",
        "        1.8090e-04, -7.3660e-04, -5.3930e-04, -3.7060e-04, -2.8200e-05]), atol=1e-5)"
      ]
    },
    {
      "cell_type": "markdown",
      "source": [
        ""
      ],
      "metadata": {
        "id": "JbtQIfbzxBAz"
      }
    },
    {
      "cell_type": "code",
      "execution_count": 298,
      "metadata": {
        "id": "sVW1cBLD3zQS"
      },
      "outputs": [],
      "source": [
        "model = CustomLogisticRegression()"
      ]
    },
    {
      "cell_type": "code",
      "execution_count": 299,
      "metadata": {
        "id": "B76VbHzx3zQT",
        "colab": {
          "base_uri": "https://localhost:8080/",
          "height": 388
        },
        "outputId": "f2e38f0d-a1e0-4f59-a108-dd26916f142d"
      },
      "outputs": [
        {
          "output_type": "stream",
          "name": "stderr",
          "text": [
            "/usr/local/lib/python3.7/dist-packages/sklearn/utils/deprecation.py:87: FutureWarning: Function plot_confusion_matrix is deprecated; Function `plot_confusion_matrix` is deprecated in 1.0 and will be removed in 1.2. Use one of the class methods: ConfusionMatrixDisplay.from_predictions or ConfusionMatrixDisplay.from_estimator.\n",
            "  warnings.warn(msg, category=FutureWarning)\n"
          ]
        },
        {
          "output_type": "error",
          "ename": "NameError",
          "evalue": "ignored",
          "traceback": [
            "\u001b[0;31m---------------------------------------------------------------------------\u001b[0m",
            "\u001b[0;31mNameError\u001b[0m                                 Traceback (most recent call last)",
            "\u001b[0;32m<ipython-input-299-1cacc6fb51b2>\u001b[0m in \u001b[0;36m<module>\u001b[0;34m()\u001b[0m\n\u001b[0;32m----> 1\u001b[0;31m \u001b[0mtrain_acc\u001b[0m\u001b[0;34m,\u001b[0m \u001b[0mtest_acc\u001b[0m \u001b[0;34m=\u001b[0m \u001b[0mfit_evaluate\u001b[0m\u001b[0;34m(\u001b[0m\u001b[0mmodel\u001b[0m\u001b[0;34m,\u001b[0m \u001b[0mX_train\u001b[0m\u001b[0;34m,\u001b[0m \u001b[0my_train\u001b[0m\u001b[0;34m,\u001b[0m \u001b[0mX_test\u001b[0m\u001b[0;34m,\u001b[0m \u001b[0my_test\u001b[0m\u001b[0;34m)\u001b[0m\u001b[0;34m\u001b[0m\u001b[0;34m\u001b[0m\u001b[0m\n\u001b[0m",
            "\u001b[0;32m<ipython-input-292-14a2249e6976>\u001b[0m in \u001b[0;36mfit_evaluate\u001b[0;34m(clf, X_train, y_train, X_test, y_test)\u001b[0m\n\u001b[1;32m      1\u001b[0m \u001b[0;32mdef\u001b[0m \u001b[0mfit_evaluate\u001b[0m\u001b[0;34m(\u001b[0m\u001b[0mclf\u001b[0m\u001b[0;34m,\u001b[0m \u001b[0mX_train\u001b[0m\u001b[0;34m,\u001b[0m \u001b[0my_train\u001b[0m\u001b[0;34m,\u001b[0m \u001b[0mX_test\u001b[0m\u001b[0;34m,\u001b[0m \u001b[0my_test\u001b[0m\u001b[0;34m)\u001b[0m\u001b[0;34m:\u001b[0m\u001b[0;34m\u001b[0m\u001b[0;34m\u001b[0m\u001b[0m\n\u001b[1;32m      2\u001b[0m     \u001b[0mclf\u001b[0m\u001b[0;34m.\u001b[0m\u001b[0mfit\u001b[0m\u001b[0;34m(\u001b[0m\u001b[0mX_train\u001b[0m\u001b[0;34m,\u001b[0m \u001b[0my_train\u001b[0m\u001b[0;34m)\u001b[0m\u001b[0;34m\u001b[0m\u001b[0;34m\u001b[0m\u001b[0m\n\u001b[0;32m----> 3\u001b[0;31m     \u001b[0mdisp\u001b[0m \u001b[0;34m=\u001b[0m \u001b[0mmetrics\u001b[0m\u001b[0;34m.\u001b[0m\u001b[0mplot_confusion_matrix\u001b[0m\u001b[0;34m(\u001b[0m\u001b[0mclf\u001b[0m\u001b[0;34m,\u001b[0m \u001b[0mX_test\u001b[0m\u001b[0;34m,\u001b[0m \u001b[0my_test\u001b[0m\u001b[0;34m,\u001b[0m \u001b[0mnormalize\u001b[0m\u001b[0;34m=\u001b[0m\u001b[0;34m'true'\u001b[0m\u001b[0;34m)\u001b[0m\u001b[0;34m\u001b[0m\u001b[0;34m\u001b[0m\u001b[0m\n\u001b[0m\u001b[1;32m      4\u001b[0m     \u001b[0mdisp\u001b[0m\u001b[0;34m.\u001b[0m\u001b[0mfigure_\u001b[0m\u001b[0;34m.\u001b[0m\u001b[0msuptitle\u001b[0m\u001b[0;34m(\u001b[0m\u001b[0;34m\"Confusion Matrix\"\u001b[0m\u001b[0;34m)\u001b[0m\u001b[0;34m\u001b[0m\u001b[0;34m\u001b[0m\u001b[0m\n\u001b[1;32m      5\u001b[0m     \u001b[0mplt\u001b[0m\u001b[0;34m.\u001b[0m\u001b[0mshow\u001b[0m\u001b[0;34m(\u001b[0m\u001b[0;34m)\u001b[0m\u001b[0;34m\u001b[0m\u001b[0;34m\u001b[0m\u001b[0m\n",
            "\u001b[0;32m/usr/local/lib/python3.7/dist-packages/sklearn/utils/deprecation.py\u001b[0m in \u001b[0;36mwrapped\u001b[0;34m(*args, **kwargs)\u001b[0m\n\u001b[1;32m     86\u001b[0m         \u001b[0;32mdef\u001b[0m \u001b[0mwrapped\u001b[0m\u001b[0;34m(\u001b[0m\u001b[0;34m*\u001b[0m\u001b[0margs\u001b[0m\u001b[0;34m,\u001b[0m \u001b[0;34m**\u001b[0m\u001b[0mkwargs\u001b[0m\u001b[0;34m)\u001b[0m\u001b[0;34m:\u001b[0m\u001b[0;34m\u001b[0m\u001b[0;34m\u001b[0m\u001b[0m\n\u001b[1;32m     87\u001b[0m             \u001b[0mwarnings\u001b[0m\u001b[0;34m.\u001b[0m\u001b[0mwarn\u001b[0m\u001b[0;34m(\u001b[0m\u001b[0mmsg\u001b[0m\u001b[0;34m,\u001b[0m \u001b[0mcategory\u001b[0m\u001b[0;34m=\u001b[0m\u001b[0mFutureWarning\u001b[0m\u001b[0;34m)\u001b[0m\u001b[0;34m\u001b[0m\u001b[0;34m\u001b[0m\u001b[0m\n\u001b[0;32m---> 88\u001b[0;31m             \u001b[0;32mreturn\u001b[0m \u001b[0mfun\u001b[0m\u001b[0;34m(\u001b[0m\u001b[0;34m*\u001b[0m\u001b[0margs\u001b[0m\u001b[0;34m,\u001b[0m \u001b[0;34m**\u001b[0m\u001b[0mkwargs\u001b[0m\u001b[0;34m)\u001b[0m\u001b[0;34m\u001b[0m\u001b[0;34m\u001b[0m\u001b[0m\n\u001b[0m\u001b[1;32m     89\u001b[0m \u001b[0;34m\u001b[0m\u001b[0m\n\u001b[1;32m     90\u001b[0m         \u001b[0mwrapped\u001b[0m\u001b[0;34m.\u001b[0m\u001b[0m__doc__\u001b[0m \u001b[0;34m=\u001b[0m \u001b[0mself\u001b[0m\u001b[0;34m.\u001b[0m\u001b[0m_update_doc\u001b[0m\u001b[0;34m(\u001b[0m\u001b[0mwrapped\u001b[0m\u001b[0;34m.\u001b[0m\u001b[0m__doc__\u001b[0m\u001b[0;34m)\u001b[0m\u001b[0;34m\u001b[0m\u001b[0;34m\u001b[0m\u001b[0m\n",
            "\u001b[0;32m/usr/local/lib/python3.7/dist-packages/sklearn/metrics/_plot/confusion_matrix.py\u001b[0m in \u001b[0;36mplot_confusion_matrix\u001b[0;34m(estimator, X, y_true, labels, sample_weight, normalize, display_labels, include_values, xticks_rotation, values_format, cmap, ax, colorbar)\u001b[0m\n\u001b[1;32m    563\u001b[0m         \u001b[0;32mraise\u001b[0m \u001b[0mValueError\u001b[0m\u001b[0;34m(\u001b[0m\u001b[0;34m\"plot_confusion_matrix only supports classifiers\"\u001b[0m\u001b[0;34m)\u001b[0m\u001b[0;34m\u001b[0m\u001b[0;34m\u001b[0m\u001b[0m\n\u001b[1;32m    564\u001b[0m \u001b[0;34m\u001b[0m\u001b[0m\n\u001b[0;32m--> 565\u001b[0;31m     \u001b[0my_pred\u001b[0m \u001b[0;34m=\u001b[0m \u001b[0mestimator\u001b[0m\u001b[0;34m.\u001b[0m\u001b[0mpredict\u001b[0m\u001b[0;34m(\u001b[0m\u001b[0mX\u001b[0m\u001b[0;34m)\u001b[0m\u001b[0;34m\u001b[0m\u001b[0;34m\u001b[0m\u001b[0m\n\u001b[0m\u001b[1;32m    566\u001b[0m     cm = confusion_matrix(\n\u001b[1;32m    567\u001b[0m         \u001b[0my_true\u001b[0m\u001b[0;34m,\u001b[0m \u001b[0my_pred\u001b[0m\u001b[0;34m,\u001b[0m \u001b[0msample_weight\u001b[0m\u001b[0;34m=\u001b[0m\u001b[0msample_weight\u001b[0m\u001b[0;34m,\u001b[0m \u001b[0mlabels\u001b[0m\u001b[0;34m=\u001b[0m\u001b[0mlabels\u001b[0m\u001b[0;34m,\u001b[0m \u001b[0mnormalize\u001b[0m\u001b[0;34m=\u001b[0m\u001b[0mnormalize\u001b[0m\u001b[0;34m\u001b[0m\u001b[0;34m\u001b[0m\u001b[0m\n",
            "\u001b[0;32m<ipython-input-288-292daaa8244a>\u001b[0m in \u001b[0;36mpredict\u001b[0;34m(self, X)\u001b[0m\n\u001b[1;32m    103\u001b[0m         \"\"\"\n\u001b[1;32m    104\u001b[0m         \u001b[0;31m# return self.predict_proba(X)\u001b[0m\u001b[0;34m\u001b[0m\u001b[0;34m\u001b[0m\u001b[0;34m\u001b[0m\u001b[0m\n\u001b[0;32m--> 105\u001b[0;31m         \u001b[0;32mif\u001b[0m \u001b[0mpredict_proba\u001b[0m\u001b[0;34m(\u001b[0m\u001b[0mX\u001b[0m\u001b[0;34m)\u001b[0m\u001b[0;34m>\u001b[0m \u001b[0;36m0.5\u001b[0m\u001b[0;34m:\u001b[0m\u001b[0;34m\u001b[0m\u001b[0;34m\u001b[0m\u001b[0m\n\u001b[0m\u001b[1;32m    106\u001b[0m             \u001b[0;32mreturn\u001b[0m \u001b[0;36m1\u001b[0m\u001b[0;34m\u001b[0m\u001b[0;34m\u001b[0m\u001b[0m\n\u001b[1;32m    107\u001b[0m         \u001b[0;32melse\u001b[0m\u001b[0;34m:\u001b[0m\u001b[0;34m\u001b[0m\u001b[0;34m\u001b[0m\u001b[0m\n",
            "\u001b[0;31mNameError\u001b[0m: name 'predict_proba' is not defined"
          ]
        }
      ],
      "source": [
        "train_acc, test_acc = fit_evaluate(model, X_train, y_train, X_test, y_test)"
      ]
    },
    {
      "cell_type": "code",
      "execution_count": null,
      "metadata": {
        "id": "wclbXGRg3zQT"
      },
      "outputs": [],
      "source": [
        "train_acc, test_acc"
      ]
    },
    {
      "cell_type": "code",
      "execution_count": null,
      "metadata": {
        "id": "jTF3Aile3zQT"
      },
      "outputs": [],
      "source": [
        "assert min(train_acc, test_acc) > 0.9"
      ]
    },
    {
      "cell_type": "markdown",
      "metadata": {
        "id": "M-weKCJ43zQU"
      },
      "source": [
        "**(0.5 points)** Visualize the loss history."
      ]
    },
    {
      "cell_type": "code",
      "execution_count": null,
      "metadata": {
        "id": "zmbvKgGC3zQV"
      },
      "outputs": [],
      "source": [
        "## your code"
      ]
    },
    {
      "cell_type": "markdown",
      "metadata": {
        "id": "VUMzBeMM3zQV"
      },
      "source": [
        "**(0.5 points)** Try different learning rates and compare the results. How does the learning rate influence the convergence?"
      ]
    },
    {
      "cell_type": "code",
      "execution_count": null,
      "metadata": {
        "id": "fHAQZR0J3zQW"
      },
      "outputs": [],
      "source": [
        "## your code"
      ]
    },
    {
      "cell_type": "markdown",
      "metadata": {
        "id": "lry0cG2H3zQW"
      },
      "source": [
        "< your thoughts >"
      ]
    },
    {
      "cell_type": "markdown",
      "metadata": {
        "id": "C2GCfwlh3zQX"
      },
      "source": [
        "**(0.5 points)** Try different regularization parameter values and compare the model quality."
      ]
    },
    {
      "cell_type": "code",
      "execution_count": null,
      "metadata": {
        "id": "-nTTlmJv3zQY"
      },
      "outputs": [],
      "source": [
        "## your code"
      ]
    },
    {
      "cell_type": "markdown",
      "metadata": {
        "id": "6SrN80eS3zQY"
      },
      "source": [
        "< your thoughts >"
      ]
    },
    {
      "cell_type": "markdown",
      "metadata": {
        "id": "bSp847FU3zQZ"
      },
      "source": [
        "**(0.5 points)** Compare zero initialization and random initialization. "
      ]
    },
    {
      "cell_type": "code",
      "execution_count": null,
      "metadata": {
        "id": "rmsxHmLr3zQa"
      },
      "outputs": [],
      "source": [
        "## your code"
      ]
    },
    {
      "cell_type": "markdown",
      "metadata": {
        "id": "DAE-BGg43zQb"
      },
      "source": [
        "< your thoughts >"
      ]
    },
    {
      "cell_type": "markdown",
      "metadata": {
        "id": "Mjy3riJL3zQc"
      },
      "source": [
        "## Part 2: Implementing KNN Classifier"
      ]
    },
    {
      "cell_type": "markdown",
      "metadata": {
        "id": "j6g7Fc8k3zQc"
      },
      "source": [
        "In this task you need to implement weighted K-Neighbors Classifier."
      ]
    },
    {
      "cell_type": "markdown",
      "metadata": {
        "id": "3B3JXrH23zQd"
      },
      "source": [
        "Recall that training a KNN classifier is simply memorizing a training sample. \n",
        "\n",
        "The process of applying a classifier for one object is to find the distances from it to all objects in the training data, then select the k nearest objects (neighbors) and return the most common class among these objects."
      ]
    },
    {
      "cell_type": "markdown",
      "metadata": {
        "id": "mp2ZjmRA3zQd"
      },
      "source": [
        "You can also give the nearest neighbors weights in accordance with the distance of the object to them. In the simplest case (as in your assignment), you can set the weights inversely proportional to that distance. \n",
        "\n",
        "$$w_{i} = \\frac{1}{d_{i} + eps},$$\n",
        "\n",
        "where $d_{i}$ is the distance between object and i-th nearest neighbor and $eps$ is the small value to prevent division by zero.\n",
        "\n",
        "In case of 'uniform' weights, all k nearest neighbors are equivalent (have equal weight, for example $w_{i} = 1, \\forall i \\in(1,k)$)."
      ]
    },
    {
      "cell_type": "markdown",
      "metadata": {
        "id": "-ORsaTSa3zQf"
      },
      "source": [
        "To predict the probability of classes, it is necessary to normalize the weights of each class, dividing them by the sum:\n",
        "\n",
        "$$p_{i} = \\frac{w_{i}}{\\sum_{j=1}^{c}w_{j}},$$\n",
        "\n",
        "where $p_i$ is probability of i-th class and $c$ is the number of classes."
      ]
    },
    {
      "cell_type": "markdown",
      "metadata": {
        "id": "hKb4P3ag3zQg"
      },
      "source": [
        "**(2 points)** Implement the algorithm and use it to classify the digits. By implementing this algorithm, you will be able to classify numbers not only into \"even\" or \"odd\", but into their real representation."
      ]
    },
    {
      "cell_type": "code",
      "execution_count": null,
      "metadata": {
        "id": "S-y27zjC3zQh"
      },
      "outputs": [],
      "source": [
        "class CustomKNeighborsClassifier:\n",
        "    _estimator_type = \"classifier\"\n",
        "    \n",
        "    def __init__(self, n_neighbors=5, weights='uniform', eps=1e-9):\n",
        "        \"\"\"K-Nearest Neighbors classifier.\n",
        "        \n",
        "        Args:\n",
        "            n_neighbors: int, default=5\n",
        "                Number of neighbors to use by default for :meth:`kneighbors` queries.\n",
        "            weights : {'uniform', 'distance'} or callable, default='uniform'\n",
        "                Weight function used in prediction.  Possible values:\n",
        "                - 'uniform' : uniform weights.  All points in each neighborhood\n",
        "                  are weighted equally.\n",
        "                - 'distance' : weight points by the inverse of their distance.\n",
        "                  in this case, closer neighbors of a query point will have a\n",
        "                  greater influence than neighbors which are further away.\n",
        "            eps : float, default=1e-5\n",
        "                Epsilon to prevent division by 0 \n",
        "        \"\"\"\n",
        "        self.n_neighbors = n_neighbors\n",
        "        self.weights = weights\n",
        "        self.eps = eps\n",
        "        \n",
        "    \n",
        "    def get_pairwise_distances(self, X, Y):\n",
        "        \"\"\"\n",
        "        Returnes matrix of the pairwise distances between the rows from both X and Y.\n",
        "        Args:\n",
        "            X: numpy array of shape (n_samples, n_features)\n",
        "            Y: numpy array of shape (k_samples, n_features)\n",
        "        Returns:\n",
        "            P: numpy array of shape (n_samples, k_samples)\n",
        "                Matrix in which (i, j) value is the distance \n",
        "                between i'th row from the X and j'th row from the Y.\n",
        "        \"\"\"\n",
        "        return np.linalg.norm(np.subtract(X,Y))\n",
        "        \n",
        "    \n",
        "    \n",
        "    def get_class_weights(self, y, weights):\n",
        "        \"\"\"\n",
        "        Returns a vector with sum of weights for each class \n",
        "        Args:\n",
        "            y: numpy array of shape (n_samles,)\n",
        "            weights: numpy array of shape (n_samples,)\n",
        "                The weights of the corresponding points of y.\n",
        "        Returns:\n",
        "            p: numpy array of shape (n_classes)\n",
        "                Array where the value at the i-th position \n",
        "                corresponds to the weight of the i-th class.\n",
        "        \"\"\"\n",
        "        # <your code>\n",
        "        pass\n",
        "            \n",
        "        \n",
        "    def fit(self, X, y):\n",
        "        \"\"\"Fit the model.\n",
        "        \n",
        "        Args:\n",
        "            X: numpy array of shape (n_samples, n_features)\n",
        "            y: numpy array of shape (n_samples,)\n",
        "                Target vector.        \n",
        "        \"\"\"\n",
        "        self.points = X\n",
        "        self.y = y\n",
        "        self.classes_ = np.unique(y)\n",
        "        \n",
        "        \n",
        "    def predict_proba(self, X):\n",
        "        \"\"\"Predict positive class probabilities.\n",
        "        \n",
        "        Args:\n",
        "            X: numpy array of shape (n_samples, n_features)\n",
        "        Returns:\n",
        "            y: numpy array of shape (n_samples, n_classes)\n",
        "                Vector containing positive class probabilities.\n",
        "        \"\"\"\n",
        "        if hasattr(self, 'points'):\n",
        "            P = self.get_pairwise_distances(X, self.points)\n",
        "            \n",
        "            weights_of_points = np.ones(P.shape)\n",
        "            if self.weights == 'distance':\n",
        "                weights_of_points = 'your code'\n",
        "                \n",
        "            # <your code>\n",
        "            pass\n",
        "        \n",
        "        else: \n",
        "            raise NotFittedError(\"CustomKNeighborsClassifier instance is not fitted yet\")\n",
        "            \n",
        "        \n",
        "    def predict(self, X):\n",
        "        \"\"\"Predict classes.\n",
        "        \n",
        "        Args:\n",
        "            X: numpy array of shape (n_samples, n_features)\n",
        "        Returns:\n",
        "            y: numpy array of shape (n_samples,)\n",
        "                Vector containing predicted class labels.\n",
        "        \"\"\"\n",
        "        # <your code>\n",
        "        pass"
      ]
    },
    {
      "cell_type": "code",
      "execution_count": null,
      "metadata": {
        "id": "rewE4ohn3zQi"
      },
      "outputs": [],
      "source": [
        "model = CustomKNeighborsClassifier(n_neighbors=5, weights='distance')\n",
        "knn = KNeighborsClassifier(n_neighbors=5, weights='distance')"
      ]
    },
    {
      "cell_type": "code",
      "execution_count": null,
      "metadata": {
        "id": "UJgPsq2w3zQk"
      },
      "outputs": [],
      "source": [
        "assert np.allclose(model.get_pairwise_distances(np.array([[0  , 1]  , [1, 1]]), \n",
        "                                                np.array([[0.5, 0.5], [1, 0]])),\n",
        "                   np.array([[0.70710678, 1.41421356],\n",
        "                             [0.70710678, 1.        ]]))"
      ]
    },
    {
      "cell_type": "code",
      "execution_count": null,
      "metadata": {
        "id": "OjTB7VEF3zQl"
      },
      "outputs": [],
      "source": [
        "model.classes_ = ['one', 'two', 'three']\n",
        "assert np.allclose(model.get_class_weights(np.array(['one', 'one', 'three', 'two']), np.array([1, 1, 0, 4])), \n",
        "                   np.array([2,4,0]))"
      ]
    },
    {
      "cell_type": "code",
      "execution_count": null,
      "metadata": {
        "id": "KC1pr4zz3zQl"
      },
      "outputs": [],
      "source": [
        "X, y = datasets.load_digits(n_class=10, return_X_y=True)\n",
        "\n",
        "_, axes = plt.subplots(nrows=3, ncols=7, figsize=(10, 5))\n",
        "for ax, image, label in zip(axes.flatten(), X, y):\n",
        "    ax.set_axis_off()\n",
        "    ax.imshow(image.reshape((8, 8)), cmap=plt.cm.gray_r if label % 2 else plt.cm.afmhot_r)\n",
        "    ax.set_title(label)\n",
        "\n",
        "X_train, X_test, y_train, y_test = train_test_split(X, y, test_size=0.2, shuffle=True, random_state=42)"
      ]
    },
    {
      "cell_type": "code",
      "execution_count": null,
      "metadata": {
        "id": "B3feFHQt3zQl"
      },
      "outputs": [],
      "source": [
        "model.fit(X_train, y_train)\n",
        "knn.fit(X_train, list(map(str, y_train)));"
      ]
    },
    {
      "cell_type": "code",
      "execution_count": null,
      "metadata": {
        "id": "2XIwjpzq3zQm"
      },
      "outputs": [],
      "source": [
        "assert np.allclose(model.predict_proba(X_test), knn.predict_proba(X_test))"
      ]
    },
    {
      "cell_type": "code",
      "execution_count": null,
      "metadata": {
        "id": "yPkNYWL73zQn"
      },
      "outputs": [],
      "source": [
        "train_acc, test_acc = fit_evaluate(model, X_train, y_train, X_test, y_test)"
      ]
    },
    {
      "cell_type": "code",
      "execution_count": null,
      "metadata": {
        "id": "qkunH1ko3zQn"
      },
      "outputs": [],
      "source": [
        "assert train_acc == 1\n",
        "assert test_acc > 0.98"
      ]
    },
    {
      "cell_type": "markdown",
      "metadata": {
        "id": "qiFOHk_33zQo"
      },
      "source": [
        "**(0.5 points)** Take a look at the confusion matrix and tell what numbers the model confuses and why this happens."
      ]
    },
    {
      "cell_type": "markdown",
      "metadata": {
        "id": "ux75droz3zQp"
      },
      "source": [
        "< your thoughts >"
      ]
    },
    {
      "cell_type": "markdown",
      "metadata": {
        "id": "KjILuxNh3zQp"
      },
      "source": [
        "**(0.5 points)** Try different n_neighbors parameters and compare the output probabilities of the model."
      ]
    },
    {
      "cell_type": "code",
      "execution_count": null,
      "metadata": {
        "id": "QiJZ9AZS3zQq"
      },
      "outputs": [],
      "source": [
        "## your code"
      ]
    },
    {
      "cell_type": "markdown",
      "metadata": {
        "id": "PQeM8qpN3zQr"
      },
      "source": [
        "< your thoughts >"
      ]
    },
    {
      "cell_type": "markdown",
      "metadata": {
        "id": "D5wK5L5v3zQs"
      },
      "source": [
        "**(0.5 points)** Compare both 'uniform' and 'distance' weights and share your thoughts in what situations which parameter can be better."
      ]
    },
    {
      "cell_type": "code",
      "execution_count": null,
      "metadata": {
        "id": "LwjU-Ibd3zQt"
      },
      "outputs": [],
      "source": [
        "## your code"
      ]
    },
    {
      "cell_type": "markdown",
      "metadata": {
        "id": "1E0ovVVc3zQu"
      },
      "source": [
        "< your thoughts >"
      ]
    },
    {
      "cell_type": "markdown",
      "metadata": {
        "id": "EZjR8HbE3zQv"
      },
      "source": [
        "**(0.5 points)** Suggest another distance measurement function that could improve the quality of the classification for this task. "
      ]
    },
    {
      "cell_type": "markdown",
      "metadata": {
        "id": "CAx8Tr5r3zQv"
      },
      "source": [
        "< your thoughts >"
      ]
    },
    {
      "cell_type": "markdown",
      "metadata": {
        "id": "kiqYzKA73zQw"
      },
      "source": [
        "**(0.5 points)** Suggest different task and distance function that you think would be suitable for it."
      ]
    },
    {
      "cell_type": "markdown",
      "metadata": {
        "id": "kU5FlbQh3zQw"
      },
      "source": [
        "< your thoughts >"
      ]
    },
    {
      "cell_type": "markdown",
      "metadata": {
        "id": "UufpMEfm3zQx"
      },
      "source": [
        "## Part 3: Synthetic Titanic Survival Prediction"
      ]
    },
    {
      "cell_type": "markdown",
      "metadata": {
        "id": "qhVhne-V3zQx"
      },
      "source": [
        "### Dataset\n",
        "\n",
        "Read the description here: https://www.kaggle.com/c/tabular-playground-series-apr-2021/data. Download the dataset and place it in the *data/titanic/* folder in your working directory.\n",
        "You will use train.csv for model training and validation. The test set is used for model testing: once the model is trained, you can predict whether a passenger survived or not for each passenger in the test set, and submit the predictions: https://www.kaggle.com/c/tabular-playground-series-apr-2021/overview/evaluation.  \n"
      ]
    },
    {
      "cell_type": "code",
      "execution_count": null,
      "metadata": {
        "id": "0IiyI4eg3zQy"
      },
      "outputs": [],
      "source": [
        "#PATH = \"./data/\""
      ]
    },
    {
      "cell_type": "code",
      "source": [
        "from google.colab import drive\n",
        "drive.mount('/content/drive')\n",
        "train_filepath = ('./drive/MyDrive/train.csv')\n",
        "data = pd.read_csv(train_filepath, index_col=\"PassengerId\")"
      ],
      "metadata": {
        "colab": {
          "base_uri": "https://localhost:8080/"
        },
        "id": "Ywria_G_gk0A",
        "outputId": "e92702d3-08d7-44d5-a690-e8e392be40a7"
      },
      "execution_count": 300,
      "outputs": [
        {
          "output_type": "stream",
          "name": "stdout",
          "text": [
            "Drive already mounted at /content/drive; to attempt to forcibly remount, call drive.mount(\"/content/drive\", force_remount=True).\n"
          ]
        }
      ]
    },
    {
      "cell_type": "code",
      "execution_count": null,
      "metadata": {
        "id": "4ci4fmxO3zQz"
      },
      "outputs": [],
      "source": [
        "#data = pd.read_csv(os.path.join(PATH, 'titanic', 'train.csv')).set_index('PassengerId')"
      ]
    },
    {
      "cell_type": "code",
      "execution_count": 301,
      "metadata": {
        "scrolled": true,
        "id": "LkhR_Jui3zQ0",
        "colab": {
          "base_uri": "https://localhost:8080/",
          "height": 237
        },
        "outputId": "e334e3fc-a15a-4306-8e3b-7b2c02c314db"
      },
      "outputs": [
        {
          "output_type": "execute_result",
          "data": {
            "text/plain": [
              "             Survived  Pclass              Name   Sex    Age  SibSp  Parch  \\\n",
              "PassengerId                                                                  \n",
              "0                   1       1  Oconnor, Frankie  male    NaN      2      0   \n",
              "1                   0       3       Bryan, Drew  male    NaN      0      0   \n",
              "2                   0       3    Owens, Kenneth  male   0.33      1      2   \n",
              "3                   0       3     Kramer, James  male  19.00      0      0   \n",
              "4                   1       3     Bond, Michael  male  25.00      0      0   \n",
              "\n",
              "                Ticket   Fare   Cabin Embarked  \n",
              "PassengerId                                     \n",
              "0               209245  27.14  C12239        S  \n",
              "1                27323  13.35     NaN        S  \n",
              "2            CA 457703  71.29     NaN        S  \n",
              "3             A. 10866  13.04     NaN        S  \n",
              "4               427635   7.76     NaN        S  "
            ],
            "text/html": [
              "\n",
              "  <div id=\"df-fd1b3df5-d897-4b96-ad6c-ab9dfa87ab37\">\n",
              "    <div class=\"colab-df-container\">\n",
              "      <div>\n",
              "<style scoped>\n",
              "    .dataframe tbody tr th:only-of-type {\n",
              "        vertical-align: middle;\n",
              "    }\n",
              "\n",
              "    .dataframe tbody tr th {\n",
              "        vertical-align: top;\n",
              "    }\n",
              "\n",
              "    .dataframe thead th {\n",
              "        text-align: right;\n",
              "    }\n",
              "</style>\n",
              "<table border=\"1\" class=\"dataframe\">\n",
              "  <thead>\n",
              "    <tr style=\"text-align: right;\">\n",
              "      <th></th>\n",
              "      <th>Survived</th>\n",
              "      <th>Pclass</th>\n",
              "      <th>Name</th>\n",
              "      <th>Sex</th>\n",
              "      <th>Age</th>\n",
              "      <th>SibSp</th>\n",
              "      <th>Parch</th>\n",
              "      <th>Ticket</th>\n",
              "      <th>Fare</th>\n",
              "      <th>Cabin</th>\n",
              "      <th>Embarked</th>\n",
              "    </tr>\n",
              "    <tr>\n",
              "      <th>PassengerId</th>\n",
              "      <th></th>\n",
              "      <th></th>\n",
              "      <th></th>\n",
              "      <th></th>\n",
              "      <th></th>\n",
              "      <th></th>\n",
              "      <th></th>\n",
              "      <th></th>\n",
              "      <th></th>\n",
              "      <th></th>\n",
              "      <th></th>\n",
              "    </tr>\n",
              "  </thead>\n",
              "  <tbody>\n",
              "    <tr>\n",
              "      <th>0</th>\n",
              "      <td>1</td>\n",
              "      <td>1</td>\n",
              "      <td>Oconnor, Frankie</td>\n",
              "      <td>male</td>\n",
              "      <td>NaN</td>\n",
              "      <td>2</td>\n",
              "      <td>0</td>\n",
              "      <td>209245</td>\n",
              "      <td>27.14</td>\n",
              "      <td>C12239</td>\n",
              "      <td>S</td>\n",
              "    </tr>\n",
              "    <tr>\n",
              "      <th>1</th>\n",
              "      <td>0</td>\n",
              "      <td>3</td>\n",
              "      <td>Bryan, Drew</td>\n",
              "      <td>male</td>\n",
              "      <td>NaN</td>\n",
              "      <td>0</td>\n",
              "      <td>0</td>\n",
              "      <td>27323</td>\n",
              "      <td>13.35</td>\n",
              "      <td>NaN</td>\n",
              "      <td>S</td>\n",
              "    </tr>\n",
              "    <tr>\n",
              "      <th>2</th>\n",
              "      <td>0</td>\n",
              "      <td>3</td>\n",
              "      <td>Owens, Kenneth</td>\n",
              "      <td>male</td>\n",
              "      <td>0.33</td>\n",
              "      <td>1</td>\n",
              "      <td>2</td>\n",
              "      <td>CA 457703</td>\n",
              "      <td>71.29</td>\n",
              "      <td>NaN</td>\n",
              "      <td>S</td>\n",
              "    </tr>\n",
              "    <tr>\n",
              "      <th>3</th>\n",
              "      <td>0</td>\n",
              "      <td>3</td>\n",
              "      <td>Kramer, James</td>\n",
              "      <td>male</td>\n",
              "      <td>19.00</td>\n",
              "      <td>0</td>\n",
              "      <td>0</td>\n",
              "      <td>A. 10866</td>\n",
              "      <td>13.04</td>\n",
              "      <td>NaN</td>\n",
              "      <td>S</td>\n",
              "    </tr>\n",
              "    <tr>\n",
              "      <th>4</th>\n",
              "      <td>1</td>\n",
              "      <td>3</td>\n",
              "      <td>Bond, Michael</td>\n",
              "      <td>male</td>\n",
              "      <td>25.00</td>\n",
              "      <td>0</td>\n",
              "      <td>0</td>\n",
              "      <td>427635</td>\n",
              "      <td>7.76</td>\n",
              "      <td>NaN</td>\n",
              "      <td>S</td>\n",
              "    </tr>\n",
              "  </tbody>\n",
              "</table>\n",
              "</div>\n",
              "      <button class=\"colab-df-convert\" onclick=\"convertToInteractive('df-fd1b3df5-d897-4b96-ad6c-ab9dfa87ab37')\"\n",
              "              title=\"Convert this dataframe to an interactive table.\"\n",
              "              style=\"display:none;\">\n",
              "        \n",
              "  <svg xmlns=\"http://www.w3.org/2000/svg\" height=\"24px\"viewBox=\"0 0 24 24\"\n",
              "       width=\"24px\">\n",
              "    <path d=\"M0 0h24v24H0V0z\" fill=\"none\"/>\n",
              "    <path d=\"M18.56 5.44l.94 2.06.94-2.06 2.06-.94-2.06-.94-.94-2.06-.94 2.06-2.06.94zm-11 1L8.5 8.5l.94-2.06 2.06-.94-2.06-.94L8.5 2.5l-.94 2.06-2.06.94zm10 10l.94 2.06.94-2.06 2.06-.94-2.06-.94-.94-2.06-.94 2.06-2.06.94z\"/><path d=\"M17.41 7.96l-1.37-1.37c-.4-.4-.92-.59-1.43-.59-.52 0-1.04.2-1.43.59L10.3 9.45l-7.72 7.72c-.78.78-.78 2.05 0 2.83L4 21.41c.39.39.9.59 1.41.59.51 0 1.02-.2 1.41-.59l7.78-7.78 2.81-2.81c.8-.78.8-2.07 0-2.86zM5.41 20L4 18.59l7.72-7.72 1.47 1.35L5.41 20z\"/>\n",
              "  </svg>\n",
              "      </button>\n",
              "      \n",
              "  <style>\n",
              "    .colab-df-container {\n",
              "      display:flex;\n",
              "      flex-wrap:wrap;\n",
              "      gap: 12px;\n",
              "    }\n",
              "\n",
              "    .colab-df-convert {\n",
              "      background-color: #E8F0FE;\n",
              "      border: none;\n",
              "      border-radius: 50%;\n",
              "      cursor: pointer;\n",
              "      display: none;\n",
              "      fill: #1967D2;\n",
              "      height: 32px;\n",
              "      padding: 0 0 0 0;\n",
              "      width: 32px;\n",
              "    }\n",
              "\n",
              "    .colab-df-convert:hover {\n",
              "      background-color: #E2EBFA;\n",
              "      box-shadow: 0px 1px 2px rgba(60, 64, 67, 0.3), 0px 1px 3px 1px rgba(60, 64, 67, 0.15);\n",
              "      fill: #174EA6;\n",
              "    }\n",
              "\n",
              "    [theme=dark] .colab-df-convert {\n",
              "      background-color: #3B4455;\n",
              "      fill: #D2E3FC;\n",
              "    }\n",
              "\n",
              "    [theme=dark] .colab-df-convert:hover {\n",
              "      background-color: #434B5C;\n",
              "      box-shadow: 0px 1px 3px 1px rgba(0, 0, 0, 0.15);\n",
              "      filter: drop-shadow(0px 1px 2px rgba(0, 0, 0, 0.3));\n",
              "      fill: #FFFFFF;\n",
              "    }\n",
              "  </style>\n",
              "\n",
              "      <script>\n",
              "        const buttonEl =\n",
              "          document.querySelector('#df-fd1b3df5-d897-4b96-ad6c-ab9dfa87ab37 button.colab-df-convert');\n",
              "        buttonEl.style.display =\n",
              "          google.colab.kernel.accessAllowed ? 'block' : 'none';\n",
              "\n",
              "        async function convertToInteractive(key) {\n",
              "          const element = document.querySelector('#df-fd1b3df5-d897-4b96-ad6c-ab9dfa87ab37');\n",
              "          const dataTable =\n",
              "            await google.colab.kernel.invokeFunction('convertToInteractive',\n",
              "                                                     [key], {});\n",
              "          if (!dataTable) return;\n",
              "\n",
              "          const docLinkHtml = 'Like what you see? Visit the ' +\n",
              "            '<a target=\"_blank\" href=https://colab.research.google.com/notebooks/data_table.ipynb>data table notebook</a>'\n",
              "            + ' to learn more about interactive tables.';\n",
              "          element.innerHTML = '';\n",
              "          dataTable['output_type'] = 'display_data';\n",
              "          await google.colab.output.renderOutput(dataTable, element);\n",
              "          const docLink = document.createElement('div');\n",
              "          docLink.innerHTML = docLinkHtml;\n",
              "          element.appendChild(docLink);\n",
              "        }\n",
              "      </script>\n",
              "    </div>\n",
              "  </div>\n",
              "  "
            ]
          },
          "metadata": {},
          "execution_count": 301
        }
      ],
      "source": [
        "data.head()"
      ]
    },
    {
      "cell_type": "markdown",
      "metadata": {
        "id": "kppvMZW83zQ0"
      },
      "source": [
        "### EDA"
      ]
    },
    {
      "cell_type": "markdown",
      "metadata": {
        "id": "TRmN-h833zQ0"
      },
      "source": [
        "**(0.5 points)** How many females and males are there in the dataset? What about the survived passengers? Is there any relationship between the gender and the survival?"
      ]
    },
    {
      "cell_type": "markdown",
      "source": [
        ""
      ],
      "metadata": {
        "id": "zlUYX08yhgQA"
      }
    },
    {
      "cell_type": "code",
      "execution_count": 302,
      "metadata": {
        "id": "KqoMLjJ73zQ1",
        "colab": {
          "base_uri": "https://localhost:8080/",
          "height": 445
        },
        "outputId": "d5865961-c9c4-4031-e14a-96ac677ebf23"
      },
      "outputs": [
        {
          "output_type": "stream",
          "name": "stderr",
          "text": [
            "/usr/local/lib/python3.7/dist-packages/seaborn/_decorators.py:43: FutureWarning: Pass the following variable as a keyword arg: x. From version 0.12, the only valid positional argument will be `data`, and passing other arguments without an explicit keyword will result in an error or misinterpretation.\n",
            "  FutureWarning\n"
          ]
        },
        {
          "output_type": "execute_result",
          "data": {
            "text/plain": [
              "<seaborn.axisgrid.FacetGrid at 0x7f913bed3850>"
            ]
          },
          "metadata": {},
          "execution_count": 302
        },
        {
          "output_type": "display_data",
          "data": {
            "text/plain": [
              "<Figure size 411.875x360 with 1 Axes>"
            ],
            "image/png": "[encoded data removed]"
          },
          "metadata": {
            "needs_background": "light"
          }
        }
      ],
      "source": [
        "sns.catplot(\"Sex\", data = data, hue = \"Survived\", kind=\"count\")"
      ]
    },
    {
      "cell_type": "markdown",
      "metadata": {
        "id": "gLhFIkDf3zQ2"
      },
      "source": [
        "< your thoughts >"
      ]
    },
    {
      "cell_type": "markdown",
      "metadata": {
        "id": "IebRnERf3zQ2"
      },
      "source": [
        "**(0.5 points)** Plot age distribution of the passengers. What is the average and the median age of survived and deceased passengers? Do age distributions differ for survived and deceased passengers? Why?"
      ]
    },
    {
      "cell_type": "code",
      "execution_count": 303,
      "metadata": {
        "id": "FgfV9cQ93zQ3",
        "colab": {
          "base_uri": "https://localhost:8080/",
          "height": 355
        },
        "outputId": "90da9273-6a64-40c7-e9be-a34986342a74"
      },
      "outputs": [
        {
          "output_type": "stream",
          "name": "stderr",
          "text": [
            "/usr/local/lib/python3.7/dist-packages/seaborn/distributions.py:2619: FutureWarning: `distplot` is a deprecated function and will be removed in a future version. Please adapt your code to use either `displot` (a figure-level function with similar flexibility) or `histplot` (an axes-level function for histograms).\n",
            "  warnings.warn(msg, FutureWarning)\n"
          ]
        },
        {
          "output_type": "execute_result",
          "data": {
            "text/plain": [
              "<matplotlib.axes._subplots.AxesSubplot at 0x7f913c75e2d0>"
            ]
          },
          "metadata": {},
          "execution_count": 303
        },
        {
          "output_type": "display_data",
          "data": {
            "text/plain": [
              "<Figure size 432x288 with 1 Axes>"
            ],
            "image/png": "[encoded data removed]"
          },
          "metadata": {
            "needs_background": "light"
          }
        }
      ],
      "source": [
        "# Распределение пассажиров по возрасту\n",
        "sns.distplot(a=data['Age'], kde=False, bins = 10, color = 'blue')"
      ]
    },
    {
      "cell_type": "code",
      "source": [
        "# Соотношение выживших и невыживших\n",
        "age_survived = data.groupby(['Age', 'Survived'])\n",
        "age_survived = age_survived.size().unstack()\n",
        "age_survived.plot(kind='bar', stacked=True)"
      ],
      "metadata": {
        "colab": {
          "base_uri": "https://localhost:8080/",
          "height": 311
        },
        "id": "eiTabHhkemfj",
        "outputId": "40162cf0-ca9e-43ec-cb2b-630c2d83709a"
      },
      "execution_count": 304,
      "outputs": [
        {
          "output_type": "execute_result",
          "data": {
            "text/plain": [
              "<matplotlib.axes._subplots.AxesSubplot at 0x7f913c17ded0>"
            ]
          },
          "metadata": {},
          "execution_count": 304
        },
        {
          "output_type": "display_data",
          "data": {
            "text/plain": [
              "<Figure size 432x288 with 1 Axes>"
            ],
            "image/png": "[encoded data removed]"
          },
          "metadata": {
            "needs_background": "light"
          }
        }
      ]
    },
    {
      "cell_type": "code",
      "source": [
        "#делим людей на возрастные группы, где 1 - возраст до 10 лет и т.д.\n",
        "data['Age_copy'] = data['Age']\n",
        "data['Age_copy'] = data['Age_copy'].map(lambda age: (age // 10) + 1)"
      ],
      "metadata": {
        "id": "qs-JB6-Xf6Mf"
      },
      "execution_count": 305,
      "outputs": []
    },
    {
      "cell_type": "code",
      "source": [
        "# Соотношение выживших и невыживших по возрастной группе\n",
        "age_survived = data.groupby(['Age_copy', 'Survived'])\n",
        "age_survived = age_survived.size().unstack()\n",
        "age_survived.plot(kind='bar', stacked=True)"
      ],
      "metadata": {
        "colab": {
          "base_uri": "https://localhost:8080/",
          "height": 305
        },
        "id": "i78EmVMbgC2o",
        "outputId": "6aff52ab-fd97-4ee5-809b-b3d29515911a"
      },
      "execution_count": 306,
      "outputs": [
        {
          "output_type": "execute_result",
          "data": {
            "text/plain": [
              "<matplotlib.axes._subplots.AxesSubplot at 0x7f913bb36bd0>"
            ]
          },
          "metadata": {},
          "execution_count": 306
        },
        {
          "output_type": "display_data",
          "data": {
            "text/plain": [
              "<Figure size 432x288 with 1 Axes>"
            ],
            "image/png": "[encoded data removed]"
          },
          "metadata": {
            "needs_background": "light"
          }
        }
      ]
    },
    {
      "cell_type": "code",
      "source": [
        "data.groupby('Survived')['Age'].mean()"
      ],
      "metadata": {
        "colab": {
          "base_uri": "https://localhost:8080/"
        },
        "id": "jySR_UG4a9bR",
        "outputId": "6dd1685c-0a3a-4d84-c727-ccf9aba7d2db"
      },
      "execution_count": 307,
      "outputs": [
        {
          "output_type": "execute_result",
          "data": {
            "text/plain": [
              "Survived\n",
              "0    36.708695\n",
              "1    40.553799\n",
              "Name: Age, dtype: float64"
            ]
          },
          "metadata": {},
          "execution_count": 307
        }
      ]
    },
    {
      "cell_type": "code",
      "source": [
        "data.groupby('Survived')['Age'].median()"
      ],
      "metadata": {
        "colab": {
          "base_uri": "https://localhost:8080/"
        },
        "id": "aUNNgNPEY6WG",
        "outputId": "cb937b56-ff55-4f3d-f00e-0696a7e483ad"
      },
      "execution_count": 308,
      "outputs": [
        {
          "output_type": "execute_result",
          "data": {
            "text/plain": [
              "Survived\n",
              "0    36.0\n",
              "1    43.0\n",
              "Name: Age, dtype: float64"
            ]
          },
          "metadata": {},
          "execution_count": 308
        }
      ]
    },
    {
      "cell_type": "markdown",
      "metadata": {
        "id": "yMlW1_Il3zQ3"
      },
      "source": [
        "Средний и мединный возраста выживших больше, чем не выживших. Это можно объяснить наличием более богатого жизненного опыта, а так же синтетическими данными( в оригинальных данных средний возраст вышивших был ниже)"
      ]
    },
    {
      "cell_type": "markdown",
      "metadata": {
        "id": "o5UjduMt3zQ4"
      },
      "source": [
        "**(1 point)** Explore \"passenger class\" and \"embarked\" features. What class was \"the safest\"? Is there any relationship between the embarkation port and the survival? Provide the corresponding visualizations."
      ]
    },
    {
      "cell_type": "code",
      "source": [
        "# График выживших в зависимости от класса\n",
        "sns.catplot(\"Pclass\", data = data, hue = \"Survived\", kind=\"count\")"
      ],
      "metadata": {
        "colab": {
          "base_uri": "https://localhost:8080/",
          "height": 445
        },
        "id": "ZmU2ZsWQk_3h",
        "outputId": "69ec6c78-e535-4d16-a634-fdcaf38562d7"
      },
      "execution_count": 309,
      "outputs": [
        {
          "output_type": "stream",
          "name": "stderr",
          "text": [
            "/usr/local/lib/python3.7/dist-packages/seaborn/_decorators.py:43: FutureWarning: Pass the following variable as a keyword arg: x. From version 0.12, the only valid positional argument will be `data`, and passing other arguments without an explicit keyword will result in an error or misinterpretation.\n",
            "  FutureWarning\n"
          ]
        },
        {
          "output_type": "execute_result",
          "data": {
            "text/plain": [
              "<seaborn.axisgrid.FacetGrid at 0x7f913f816350>"
            ]
          },
          "metadata": {},
          "execution_count": 309
        },
        {
          "output_type": "display_data",
          "data": {
            "text/plain": [
              "<Figure size 411.875x360 with 1 Axes>"
            ],
            "image/png": "[encoded data removed]"
          },
          "metadata": {
            "needs_background": "light"
          }
        }
      ]
    },
    {
      "cell_type": "code",
      "source": [
        "# График выживших в зависимости от порта отправления\n",
        "sns.catplot(\"Embarked\", data = data, hue = \"Survived\", kind=\"count\")"
      ],
      "metadata": {
        "colab": {
          "base_uri": "https://localhost:8080/",
          "height": 445
        },
        "id": "PhNKqOJPlD7y",
        "outputId": "c5a191f4-8109-4035-e186-e661afe3e6d3"
      },
      "execution_count": 310,
      "outputs": [
        {
          "output_type": "stream",
          "name": "stderr",
          "text": [
            "/usr/local/lib/python3.7/dist-packages/seaborn/_decorators.py:43: FutureWarning: Pass the following variable as a keyword arg: x. From version 0.12, the only valid positional argument will be `data`, and passing other arguments without an explicit keyword will result in an error or misinterpretation.\n",
            "  FutureWarning\n"
          ]
        },
        {
          "output_type": "execute_result",
          "data": {
            "text/plain": [
              "<seaborn.axisgrid.FacetGrid at 0x7f913b8a3910>"
            ]
          },
          "metadata": {},
          "execution_count": 310
        },
        {
          "output_type": "display_data",
          "data": {
            "text/plain": [
              "<Figure size 411.875x360 with 1 Axes>"
            ],
            "image/png": "[encoded data removed]"
          },
          "metadata": {
            "needs_background": "light"
          }
        }
      ]
    },
    {
      "cell_type": "code",
      "source": [
        "plt.figure(figsize=(10,4))\n",
        "sns.catplot(x=\"Embarked\", hue=\"Pclass\", kind=\"count\" ,data=data)\n",
        "plt.show()"
      ],
      "metadata": {
        "colab": {
          "base_uri": "https://localhost:8080/",
          "height": 388
        },
        "id": "zg70HRlhmlzh",
        "outputId": "5e215045-b1fa-46a5-9e68-ae5207f3b6e2"
      },
      "execution_count": 311,
      "outputs": [
        {
          "output_type": "display_data",
          "data": {
            "text/plain": [
              "<Figure size 720x288 with 0 Axes>"
            ]
          },
          "metadata": {}
        },
        {
          "output_type": "display_data",
          "data": {
            "text/plain": [
              "<Figure size 402.375x360 with 1 Axes>"
            ],
            "image/png": "[encoded data removed]"
          },
          "metadata": {
            "needs_background": "light"
          }
        }
      ]
    },
    {
      "cell_type": "markdown",
      "metadata": {
        "id": "RYK7ikAb3zQ5"
      },
      "source": [
        "  Больше всего пассажиров плыло 3-м классом, вероятно из-за того, что он самый доступный и кают этого класса просто физически больше. Однако самая большая выживаемость была у тех, кто плыл 1-м классом. Это может быть связано с расположением кают 1-го класса выше, чем 2-го и третьего.\n",
        "  Больше всего пассажиров отправлялось из порта Southampton, но самая высокая выживаемость была у пассажиров, севших в порту Cherbourg. Как видно из графика выше, может бытьсвязано с тем, что в порту Cherbourg большинство пассажиров плыли 1 классом."
      ]
    },
    {
      "cell_type": "markdown",
      "metadata": {
        "id": "ixGH_ceY3zQ6"
      },
      "source": [
        "### Modelling"
      ]
    },
    {
      "cell_type": "markdown",
      "metadata": {
        "id": "9zatbmWG3zQ7"
      },
      "source": [
        "**(0.5 points)** Find the percentage of missing values for each feature. "
      ]
    },
    {
      "cell_type": "code",
      "execution_count": 312,
      "metadata": {
        "id": "tpva4AeR3zQ7",
        "colab": {
          "base_uri": "https://localhost:8080/"
        },
        "outputId": "ae3dffdd-c3d0-42d5-963e-8721b9ee7341"
      },
      "outputs": [
        {
          "output_type": "stream",
          "name": "stdout",
          "text": [
            "Survived - 0.0 %\n",
            "Pclass - 0.0 %\n",
            "Name - 0.0 %\n",
            "Sex - 0.0 %\n",
            "Age - 3.292 %\n",
            "SibSp - 0.0 %\n",
            "Parch - 0.0 %\n",
            "Ticket - 4.623 %\n",
            "Fare - 0.134 %\n",
            "Cabin - 67.866 %\n",
            "Embarked - 0.25 %\n",
            "Age_copy - 3.292 %\n"
          ]
        }
      ],
      "source": [
        "for col in data.columns:\n",
        "    print('{} - {} %'.format(col, np.mean(data[col].isnull()*100)))"
      ]
    },
    {
      "cell_type": "markdown",
      "metadata": {
        "id": "BmInvcaU3zQ8"
      },
      "source": [
        "Think about the ways to handle these missing values for modelling and write your answer below. Which methods would you suggest? What are their advantages and disadvantages?\n",
        "\n",
        "\n",
        "Я бы заполнил пропуски следующим образом:\n",
        "В колонке Age  и Fare медианными значениями.\n",
        "Колонку Embarked mode-м(наиболее часто встречаемым)\n",
        "Колонку Fare mean-м (средним значением)\n",
        "Колонку Ticket считаю не особо информативным. Ее можно удалить, либо поискать взаимосвязь билета с класса пассажира, и заполнить ее модом исходя из класса.\n",
        "Колонка Cabin имеет почти 68% отсутствующих данных, ее можно удалить, либо сопоставить со значенем Survived, и сделать выводы, почему так много отсутствущих значений.\n"
      ]
    },
    {
      "cell_type": "markdown",
      "metadata": {
        "id": "S9v6JgI83zQ9"
      },
      "source": [
        "**(1.5 points)** Prepare the features and train two models (KNN and Logistic Regression) to predict the survival. Compare the results. Use accuracy as a metric. Don't forget about cross-validation!"
      ]
    },
    {
      "cell_type": "code",
      "source": [
        "# Проверяем данные на наличие и количество Nan, типы данных\n",
        "data.info()"
      ],
      "metadata": {
        "colab": {
          "base_uri": "https://localhost:8080/"
        },
        "id": "l-5kJvhPIQgz",
        "outputId": "538c5d30-e119-4e57-d75c-f04c618790c7"
      },
      "execution_count": 313,
      "outputs": [
        {
          "output_type": "stream",
          "name": "stdout",
          "text": [
            "<class 'pandas.core.frame.DataFrame'>\n",
            "Int64Index: 100000 entries, 0 to 99999\n",
            "Data columns (total 12 columns):\n",
            " #   Column    Non-Null Count   Dtype  \n",
            "---  ------    --------------   -----  \n",
            " 0   Survived  100000 non-null  int64  \n",
            " 1   Pclass    100000 non-null  int64  \n",
            " 2   Name      100000 non-null  object \n",
            " 3   Sex       100000 non-null  object \n",
            " 4   Age       96708 non-null   float64\n",
            " 5   SibSp     100000 non-null  int64  \n",
            " 6   Parch     100000 non-null  int64  \n",
            " 7   Ticket    95377 non-null   object \n",
            " 8   Fare      99866 non-null   float64\n",
            " 9   Cabin     32134 non-null   object \n",
            " 10  Embarked  99750 non-null   object \n",
            " 11  Age_copy  96708 non-null   float64\n",
            "dtypes: float64(3), int64(4), object(5)\n",
            "memory usage: 11.9+ MB\n"
          ]
        }
      ]
    },
    {
      "cell_type": "code",
      "source": [
        "sns.boxplot(data=data)"
      ],
      "metadata": {
        "colab": {
          "base_uri": "https://localhost:8080/",
          "height": 285
        },
        "id": "epH3U9pVIQce",
        "outputId": "ba1ba80f-eb29-4fa7-b77d-2253e0e005d0"
      },
      "execution_count": 314,
      "outputs": [
        {
          "output_type": "execute_result",
          "data": {
            "text/plain": [
              "<matplotlib.axes._subplots.AxesSubplot at 0x7f913c4db4d0>"
            ]
          },
          "metadata": {},
          "execution_count": 314
        },
        {
          "output_type": "display_data",
          "data": {
            "text/plain": [
              "<Figure size 432x288 with 1 Axes>"
            ],
            "image/png": "[encoded data removed]"
          },
          "metadata": {
            "needs_background": "light"
          }
        }
      ]
    },
    {
      "cell_type": "code",
      "source": [
        "# Убираем выбросы в колонке Fare(заменяем на nan)\n",
        "for x in ['Fare']:\n",
        "  Q1 =  data['Fare'].quantile(0.25)\n",
        "  Q3 = data['Fare'].quantile(0.75)\n",
        "  IQR = Q3 - Q1\n",
        "  maks = (Q3+1.5*IQR)\n",
        "  mins = (Q1-1.5*IQR)\n",
        "  data.loc[data[x] < mins,x] = np.nan\n",
        "  data.loc[data[x] > maks,x] = np.nan"
      ],
      "metadata": {
        "id": "HYbgKEJCIQY6"
      },
      "execution_count": 315,
      "outputs": []
    },
    {
      "cell_type": "code",
      "source": [
        "# Исключаем дубликаты по имени и билету\n",
        "\n",
        "key = ['Ticket','Name']\n",
        "data = data.drop_duplicates(subset=key)\n",
        "print(data.shape)"
      ],
      "metadata": {
        "colab": {
          "base_uri": "https://localhost:8080/"
        },
        "id": "9LlS5E9fIQSK",
        "outputId": "1629d63a-bcfd-4649-aa96-0e3a08a5850f"
      },
      "execution_count": 316,
      "outputs": [
        {
          "output_type": "stream",
          "name": "stdout",
          "text": [
            "(99973, 12)\n"
          ]
        }
      ]
    },
    {
      "cell_type": "code",
      "source": [
        "# Удаляем неинформативные колонки\n",
        "data = data.drop('Name', axis=1)\n",
        "data = data.drop('Ticket', axis=1)\n",
        "data = data.drop('Cabin', axis=1)\n",
        "print(data.shape)"
      ],
      "metadata": {
        "colab": {
          "base_uri": "https://localhost:8080/"
        },
        "id": "twpNz7ojIQOe",
        "outputId": "40ed1848-3407-4d6a-fe40-f5babf56c65d"
      },
      "execution_count": 317,
      "outputs": [
        {
          "output_type": "stream",
          "name": "stdout",
          "text": [
            "(99973, 9)\n"
          ]
        }
      ]
    },
    {
      "cell_type": "code",
      "source": [
        "# Заполняем пропуски в полезных колонках \n",
        "data[\"Age\"] = data[\"Age\"].fillna(data[\"Age\"].mean())\n",
        "data[\"Fare\"] = data[\"Fare\"].fillna(data[\"Fare\"].mean())\n",
        "data[\"Embarked\"] = data[\"Embarked\"].fillna(data[\"Embarked\"].mode()[0])\n",
        "data[\"Fare\"] = data[\"Fare\"].fillna(data[\"Fare\"].mean())"
      ],
      "metadata": {
        "id": "NwtM1YOcIQJW"
      },
      "execution_count": 318,
      "outputs": []
    },
    {
      "cell_type": "code",
      "source": [
        "# Проверяем, что в данных отсутствуют Nan\n",
        "data.info()"
      ],
      "metadata": {
        "colab": {
          "base_uri": "https://localhost:8080/"
        },
        "id": "dk7tpGD8IQA3",
        "outputId": "eed9583f-1b75-4f2b-b1fe-1fe33aab2e54"
      },
      "execution_count": 319,
      "outputs": [
        {
          "output_type": "stream",
          "name": "stdout",
          "text": [
            "<class 'pandas.core.frame.DataFrame'>\n",
            "Int64Index: 99973 entries, 0 to 99999\n",
            "Data columns (total 9 columns):\n",
            " #   Column    Non-Null Count  Dtype  \n",
            "---  ------    --------------  -----  \n",
            " 0   Survived  99973 non-null  int64  \n",
            " 1   Pclass    99973 non-null  int64  \n",
            " 2   Sex       99973 non-null  object \n",
            " 3   Age       99973 non-null  float64\n",
            " 4   SibSp     99973 non-null  int64  \n",
            " 5   Parch     99973 non-null  int64  \n",
            " 6   Fare      99973 non-null  float64\n",
            " 7   Embarked  99973 non-null  object \n",
            " 8   Age_copy  96681 non-null  float64\n",
            "dtypes: float64(3), int64(4), object(2)\n",
            "memory usage: 7.6+ MB\n"
          ]
        }
      ]
    },
    {
      "cell_type": "code",
      "source": [
        "#Измени male  и female yf 0 и 1\n",
        "d = {'male':0, 'female':1}\n",
        "data['Sex'] = data['Sex'].apply(lambda x:d[x])"
      ],
      "metadata": {
        "id": "HNt_QFTtKPHk"
      },
      "execution_count": 320,
      "outputs": []
    },
    {
      "cell_type": "code",
      "source": [
        "d = {'S':0, 'C':1, 'Q':2}\n",
        "data['Embarked'] = data['Embarked'].apply(lambda x:d[x])"
      ],
      "metadata": {
        "id": "654nFL37NSUt"
      },
      "execution_count": 321,
      "outputs": []
    },
    {
      "cell_type": "code",
      "source": [
        "data.head()"
      ],
      "metadata": {
        "colab": {
          "base_uri": "https://localhost:8080/",
          "height": 237
        },
        "id": "ml0KcuWjK1-3",
        "outputId": "fd97e339-c945-4ef7-cd44-68b4bf1806af"
      },
      "execution_count": 322,
      "outputs": [
        {
          "output_type": "execute_result",
          "data": {
            "text/plain": [
              "             Survived  Pclass  Sex        Age  SibSp  Parch       Fare  \\\n",
              "PassengerId                                                              \n",
              "0                   1       1    0  38.356875      2      0  27.140000   \n",
              "1                   0       3    0  38.356875      0      0  13.350000   \n",
              "2                   0       3    0   0.330000      1      2  20.290932   \n",
              "3                   0       3    0  19.000000      0      0  13.040000   \n",
              "4                   1       3    0  25.000000      0      0   7.760000   \n",
              "\n",
              "             Embarked  Age_copy  \n",
              "PassengerId                      \n",
              "0                   0       NaN  \n",
              "1                   0       NaN  \n",
              "2                   0       1.0  \n",
              "3                   0       2.0  \n",
              "4                   0       3.0  "
            ],
            "text/html": [
              "\n",
              "  <div id=\"df-32fb56dd-3621-4450-84f7-09ac21bc675d\">\n",
              "    <div class=\"colab-df-container\">\n",
              "      <div>\n",
              "<style scoped>\n",
              "    .dataframe tbody tr th:only-of-type {\n",
              "        vertical-align: middle;\n",
              "    }\n",
              "\n",
              "    .dataframe tbody tr th {\n",
              "        vertical-align: top;\n",
              "    }\n",
              "\n",
              "    .dataframe thead th {\n",
              "        text-align: right;\n",
              "    }\n",
              "</style>\n",
              "<table border=\"1\" class=\"dataframe\">\n",
              "  <thead>\n",
              "    <tr style=\"text-align: right;\">\n",
              "      <th></th>\n",
              "      <th>Survived</th>\n",
              "      <th>Pclass</th>\n",
              "      <th>Sex</th>\n",
              "      <th>Age</th>\n",
              "      <th>SibSp</th>\n",
              "      <th>Parch</th>\n",
              "      <th>Fare</th>\n",
              "      <th>Embarked</th>\n",
              "      <th>Age_copy</th>\n",
              "    </tr>\n",
              "    <tr>\n",
              "      <th>PassengerId</th>\n",
              "      <th></th>\n",
              "      <th></th>\n",
              "      <th></th>\n",
              "      <th></th>\n",
              "      <th></th>\n",
              "      <th></th>\n",
              "      <th></th>\n",
              "      <th></th>\n",
              "      <th></th>\n",
              "    </tr>\n",
              "  </thead>\n",
              "  <tbody>\n",
              "    <tr>\n",
              "      <th>0</th>\n",
              "      <td>1</td>\n",
              "      <td>1</td>\n",
              "      <td>0</td>\n",
              "      <td>38.356875</td>\n",
              "      <td>2</td>\n",
              "      <td>0</td>\n",
              "      <td>27.140000</td>\n",
              "      <td>0</td>\n",
              "      <td>NaN</td>\n",
              "    </tr>\n",
              "    <tr>\n",
              "      <th>1</th>\n",
              "      <td>0</td>\n",
              "      <td>3</td>\n",
              "      <td>0</td>\n",
              "      <td>38.356875</td>\n",
              "      <td>0</td>\n",
              "      <td>0</td>\n",
              "      <td>13.350000</td>\n",
              "      <td>0</td>\n",
              "      <td>NaN</td>\n",
              "    </tr>\n",
              "    <tr>\n",
              "      <th>2</th>\n",
              "      <td>0</td>\n",
              "      <td>3</td>\n",
              "      <td>0</td>\n",
              "      <td>0.330000</td>\n",
              "      <td>1</td>\n",
              "      <td>2</td>\n",
              "      <td>20.290932</td>\n",
              "      <td>0</td>\n",
              "      <td>1.0</td>\n",
              "    </tr>\n",
              "    <tr>\n",
              "      <th>3</th>\n",
              "      <td>0</td>\n",
              "      <td>3</td>\n",
              "      <td>0</td>\n",
              "      <td>19.000000</td>\n",
              "      <td>0</td>\n",
              "      <td>0</td>\n",
              "      <td>13.040000</td>\n",
              "      <td>0</td>\n",
              "      <td>2.0</td>\n",
              "    </tr>\n",
              "    <tr>\n",
              "      <th>4</th>\n",
              "      <td>1</td>\n",
              "      <td>3</td>\n",
              "      <td>0</td>\n",
              "      <td>25.000000</td>\n",
              "      <td>0</td>\n",
              "      <td>0</td>\n",
              "      <td>7.760000</td>\n",
              "      <td>0</td>\n",
              "      <td>3.0</td>\n",
              "    </tr>\n",
              "  </tbody>\n",
              "</table>\n",
              "</div>\n",
              "      <button class=\"colab-df-convert\" onclick=\"convertToInteractive('df-32fb56dd-3621-4450-84f7-09ac21bc675d')\"\n",
              "              title=\"Convert this dataframe to an interactive table.\"\n",
              "              style=\"display:none;\">\n",
              "        \n",
              "  <svg xmlns=\"http://www.w3.org/2000/svg\" height=\"24px\"viewBox=\"0 0 24 24\"\n",
              "       width=\"24px\">\n",
              "    <path d=\"M0 0h24v24H0V0z\" fill=\"none\"/>\n",
              "    <path d=\"M18.56 5.44l.94 2.06.94-2.06 2.06-.94-2.06-.94-.94-2.06-.94 2.06-2.06.94zm-11 1L8.5 8.5l.94-2.06 2.06-.94-2.06-.94L8.5 2.5l-.94 2.06-2.06.94zm10 10l.94 2.06.94-2.06 2.06-.94-2.06-.94-.94-2.06-.94 2.06-2.06.94z\"/><path d=\"M17.41 7.96l-1.37-1.37c-.4-.4-.92-.59-1.43-.59-.52 0-1.04.2-1.43.59L10.3 9.45l-7.72 7.72c-.78.78-.78 2.05 0 2.83L4 21.41c.39.39.9.59 1.41.59.51 0 1.02-.2 1.41-.59l7.78-7.78 2.81-2.81c.8-.78.8-2.07 0-2.86zM5.41 20L4 18.59l7.72-7.72 1.47 1.35L5.41 20z\"/>\n",
              "  </svg>\n",
              "      </button>\n",
              "      \n",
              "  <style>\n",
              "    .colab-df-container {\n",
              "      display:flex;\n",
              "      flex-wrap:wrap;\n",
              "      gap: 12px;\n",
              "    }\n",
              "\n",
              "    .colab-df-convert {\n",
              "      background-color: #E8F0FE;\n",
              "      border: none;\n",
              "      border-radius: 50%;\n",
              "      cursor: pointer;\n",
              "      display: none;\n",
              "      fill: #1967D2;\n",
              "      height: 32px;\n",
              "      padding: 0 0 0 0;\n",
              "      width: 32px;\n",
              "    }\n",
              "\n",
              "    .colab-df-convert:hover {\n",
              "      background-color: #E2EBFA;\n",
              "      box-shadow: 0px 1px 2px rgba(60, 64, 67, 0.3), 0px 1px 3px 1px rgba(60, 64, 67, 0.15);\n",
              "      fill: #174EA6;\n",
              "    }\n",
              "\n",
              "    [theme=dark] .colab-df-convert {\n",
              "      background-color: #3B4455;\n",
              "      fill: #D2E3FC;\n",
              "    }\n",
              "\n",
              "    [theme=dark] .colab-df-convert:hover {\n",
              "      background-color: #434B5C;\n",
              "      box-shadow: 0px 1px 3px 1px rgba(0, 0, 0, 0.15);\n",
              "      filter: drop-shadow(0px 1px 2px rgba(0, 0, 0, 0.3));\n",
              "      fill: #FFFFFF;\n",
              "    }\n",
              "  </style>\n",
              "\n",
              "      <script>\n",
              "        const buttonEl =\n",
              "          document.querySelector('#df-32fb56dd-3621-4450-84f7-09ac21bc675d button.colab-df-convert');\n",
              "        buttonEl.style.display =\n",
              "          google.colab.kernel.accessAllowed ? 'block' : 'none';\n",
              "\n",
              "        async function convertToInteractive(key) {\n",
              "          const element = document.querySelector('#df-32fb56dd-3621-4450-84f7-09ac21bc675d');\n",
              "          const dataTable =\n",
              "            await google.colab.kernel.invokeFunction('convertToInteractive',\n",
              "                                                     [key], {});\n",
              "          if (!dataTable) return;\n",
              "\n",
              "          const docLinkHtml = 'Like what you see? Visit the ' +\n",
              "            '<a target=\"_blank\" href=https://colab.research.google.com/notebooks/data_table.ipynb>data table notebook</a>'\n",
              "            + ' to learn more about interactive tables.';\n",
              "          element.innerHTML = '';\n",
              "          dataTable['output_type'] = 'display_data';\n",
              "          await google.colab.output.renderOutput(dataTable, element);\n",
              "          const docLink = document.createElement('div');\n",
              "          docLink.innerHTML = docLinkHtml;\n",
              "          element.appendChild(docLink);\n",
              "        }\n",
              "      </script>\n",
              "    </div>\n",
              "  </div>\n",
              "  "
            ]
          },
          "metadata": {},
          "execution_count": 322
        }
      ]
    },
    {
      "cell_type": "code",
      "source": [
        "col_target = ['Survived'] # целевая колонка\n",
        "col_train = ['Pclass', 'Sex', 'Age', 'SibSp', 'Parch', 'Fare', 'Embarked']\n",
        "X = data[col_train]\n",
        "Y = data[col_target]"
      ],
      "metadata": {
        "id": "baqtVQceLbAI"
      },
      "execution_count": 323,
      "outputs": []
    },
    {
      "cell_type": "code",
      "execution_count": 324,
      "metadata": {
        "id": "ABeZNXHi3zQ-"
      },
      "outputs": [],
      "source": [
        "from sklearn.model_selection import train_test_split\n",
        "from sklearn.linear_model import LogisticRegression\n",
        "from sklearn.metrics import accuracy_score, confusion_matrix"
      ]
    },
    {
      "cell_type": "code",
      "source": [
        "X_train, X_test, y_train, y_test = train_test_split(X,Y, test_size=0.3, random_state=0)"
      ],
      "metadata": {
        "id": "vG4Rfs58LBoD"
      },
      "execution_count": 325,
      "outputs": []
    },
    {
      "cell_type": "code",
      "source": [
        "log_reg = LogisticRegression()\n",
        "log_reg.fit(X_train, y_train)\n",
        "y_pred = log_reg.predict(X_test)\n",
        "y_pred"
      ],
      "metadata": {
        "colab": {
          "base_uri": "https://localhost:8080/"
        },
        "id": "L_fNu9l2Mt57",
        "outputId": "7fe1b908-5c01-4244-aaab-66485fa021e1"
      },
      "execution_count": 326,
      "outputs": [
        {
          "output_type": "stream",
          "name": "stderr",
          "text": [
            "/usr/local/lib/python3.7/dist-packages/sklearn/utils/validation.py:993: DataConversionWarning: A column-vector y was passed when a 1d array was expected. Please change the shape of y to (n_samples, ), for example using ravel().\n",
            "  y = column_or_1d(y, warn=True)\n"
          ]
        },
        {
          "output_type": "execute_result",
          "data": {
            "text/plain": [
              "array([1, 1, 1, ..., 1, 1, 1])"
            ]
          },
          "metadata": {},
          "execution_count": 326
        }
      ]
    },
    {
      "cell_type": "code",
      "source": [
        "accuracy_score(y_pred, y_test)"
      ],
      "metadata": {
        "colab": {
          "base_uri": "https://localhost:8080/"
        },
        "id": "u8SWmVNSNryX",
        "outputId": "982805c0-4e4a-4bd2-c736-38cafbf3dd93"
      },
      "execution_count": 327,
      "outputs": [
        {
          "output_type": "execute_result",
          "data": {
            "text/plain": [
              "0.7594025073352894"
            ]
          },
          "metadata": {},
          "execution_count": 327
        }
      ]
    },
    {
      "cell_type": "code",
      "source": [
        "log_reg.score(X_test, y_test)"
      ],
      "metadata": {
        "colab": {
          "base_uri": "https://localhost:8080/"
        },
        "id": "xE-hiPi4OJdo",
        "outputId": "7d856403-b3b7-496b-98b5-356714a8229c"
      },
      "execution_count": 328,
      "outputs": [
        {
          "output_type": "execute_result",
          "data": {
            "text/plain": [
              "0.7594025073352894"
            ]
          },
          "metadata": {},
          "execution_count": 328
        }
      ]
    },
    {
      "cell_type": "code",
      "source": [
        "confusion_matrix(y_pred, y_test)"
      ],
      "metadata": {
        "colab": {
          "base_uri": "https://localhost:8080/"
        },
        "id": "MqfLyN6ENuLi",
        "outputId": "fcbb9f65-d3d6-4d62-df04-518a2e77de40"
      },
      "execution_count": 329,
      "outputs": [
        {
          "output_type": "execute_result",
          "data": {
            "text/plain": [
              "array([[13398,  3597],\n",
              "       [ 3619,  9378]])"
            ]
          },
          "metadata": {},
          "execution_count": 329
        }
      ]
    },
    {
      "cell_type": "markdown",
      "source": [
        "KNN:"
      ],
      "metadata": {
        "id": "oIqU58FhQlb_"
      }
    },
    {
      "cell_type": "code",
      "source": [
        "from sklearn.neighbors import KNeighborsClassifier\n",
        "from sklearn import metrics"
      ],
      "metadata": {
        "id": "wY9WggsuQZU7"
      },
      "execution_count": 330,
      "outputs": []
    },
    {
      "cell_type": "code",
      "source": [
        "scores = []\n",
        "for k in range(1,15):\n",
        "  knn = KNeighborsClassifier(n_neighbors=k)\n",
        "  knn.fit(X_train, y_train)\n",
        "  y_pred = knn.predict(X_test)\n",
        "  scores.append(metrics.accuracy_score(y_test, y_pred))\n",
        "print(scores)"
      ],
      "metadata": {
        "colab": {
          "base_uri": "https://localhost:8080/"
        },
        "id": "iC7PZaztQneM",
        "outputId": "a077fe3f-069d-4814-b49c-10c657cb9131"
      },
      "execution_count": 331,
      "outputs": [
        {
          "output_type": "stream",
          "name": "stderr",
          "text": [
            "/usr/local/lib/python3.7/dist-packages/sklearn/neighbors/_classification.py:198: DataConversionWarning: A column-vector y was passed when a 1d array was expected. Please change the shape of y to (n_samples,), for example using ravel().\n",
            "  return self._fit(X, y)\n",
            "/usr/local/lib/python3.7/dist-packages/sklearn/neighbors/_classification.py:198: DataConversionWarning: A column-vector y was passed when a 1d array was expected. Please change the shape of y to (n_samples,), for example using ravel().\n",
            "  return self._fit(X, y)\n",
            "/usr/local/lib/python3.7/dist-packages/sklearn/neighbors/_classification.py:198: DataConversionWarning: A column-vector y was passed when a 1d array was expected. Please change the shape of y to (n_samples,), for example using ravel().\n",
            "  return self._fit(X, y)\n",
            "/usr/local/lib/python3.7/dist-packages/sklearn/neighbors/_classification.py:198: DataConversionWarning: A column-vector y was passed when a 1d array was expected. Please change the shape of y to (n_samples,), for example using ravel().\n",
            "  return self._fit(X, y)\n",
            "/usr/local/lib/python3.7/dist-packages/sklearn/neighbors/_classification.py:198: DataConversionWarning: A column-vector y was passed when a 1d array was expected. Please change the shape of y to (n_samples,), for example using ravel().\n",
            "  return self._fit(X, y)\n",
            "/usr/local/lib/python3.7/dist-packages/sklearn/neighbors/_classification.py:198: DataConversionWarning: A column-vector y was passed when a 1d array was expected. Please change the shape of y to (n_samples,), for example using ravel().\n",
            "  return self._fit(X, y)\n",
            "/usr/local/lib/python3.7/dist-packages/sklearn/neighbors/_classification.py:198: DataConversionWarning: A column-vector y was passed when a 1d array was expected. Please change the shape of y to (n_samples,), for example using ravel().\n",
            "  return self._fit(X, y)\n",
            "/usr/local/lib/python3.7/dist-packages/sklearn/neighbors/_classification.py:198: DataConversionWarning: A column-vector y was passed when a 1d array was expected. Please change the shape of y to (n_samples,), for example using ravel().\n",
            "  return self._fit(X, y)\n",
            "/usr/local/lib/python3.7/dist-packages/sklearn/neighbors/_classification.py:198: DataConversionWarning: A column-vector y was passed when a 1d array was expected. Please change the shape of y to (n_samples,), for example using ravel().\n",
            "  return self._fit(X, y)\n",
            "/usr/local/lib/python3.7/dist-packages/sklearn/neighbors/_classification.py:198: DataConversionWarning: A column-vector y was passed when a 1d array was expected. Please change the shape of y to (n_samples,), for example using ravel().\n",
            "  return self._fit(X, y)\n",
            "/usr/local/lib/python3.7/dist-packages/sklearn/neighbors/_classification.py:198: DataConversionWarning: A column-vector y was passed when a 1d array was expected. Please change the shape of y to (n_samples,), for example using ravel().\n",
            "  return self._fit(X, y)\n",
            "/usr/local/lib/python3.7/dist-packages/sklearn/neighbors/_classification.py:198: DataConversionWarning: A column-vector y was passed when a 1d array was expected. Please change the shape of y to (n_samples,), for example using ravel().\n",
            "  return self._fit(X, y)\n",
            "/usr/local/lib/python3.7/dist-packages/sklearn/neighbors/_classification.py:198: DataConversionWarning: A column-vector y was passed when a 1d array was expected. Please change the shape of y to (n_samples,), for example using ravel().\n",
            "  return self._fit(X, y)\n",
            "/usr/local/lib/python3.7/dist-packages/sklearn/neighbors/_classification.py:198: DataConversionWarning: A column-vector y was passed when a 1d array was expected. Please change the shape of y to (n_samples,), for example using ravel().\n",
            "  return self._fit(X, y)\n"
          ]
        },
        {
          "output_type": "stream",
          "name": "stdout",
          "text": [
            "[0.6829821285676181, 0.6856161643104828, 0.7146572419311816, 0.7118231528407576, 0.7264937316617764, 0.7260936249666577, 0.7333622299279808, 0.7313283542277941, 0.7380968258202187, 0.7356295012003201, 0.7388636969858629, 0.7356295012003201, 0.7393971725793544, 0.7351960522806081]\n"
          ]
        }
      ]
    },
    {
      "cell_type": "code",
      "source": [
        "knn = KNeighborsClassifier(n_neighbors=14)\n",
        "knn.fit(X_train, y_train)\n",
        "y_pred = knn.predict(X_test)\n",
        "accuracy_score(y_test, y_pred)"
      ],
      "metadata": {
        "colab": {
          "base_uri": "https://localhost:8080/"
        },
        "id": "nOHlPQupTgQp",
        "outputId": "65c66145-53cb-48bd-a6f6-88013498f785"
      },
      "execution_count": 332,
      "outputs": [
        {
          "output_type": "stream",
          "name": "stderr",
          "text": [
            "/usr/local/lib/python3.7/dist-packages/sklearn/neighbors/_classification.py:198: DataConversionWarning: A column-vector y was passed when a 1d array was expected. Please change the shape of y to (n_samples,), for example using ravel().\n",
            "  return self._fit(X, y)\n"
          ]
        },
        {
          "output_type": "execute_result",
          "data": {
            "text/plain": [
              "0.7351960522806081"
            ]
          },
          "metadata": {},
          "execution_count": 332
        }
      ]
    },
    {
      "cell_type": "markdown",
      "metadata": {
        "id": "EkJAwIYJ3zQ_"
      },
      "source": [
        "**(0.5 + X points)** Try more feature engineering and hyperparameter tuning to improve the results. You may use either KNN or Logistic Regression (or both)."
      ]
    },
    {
      "cell_type": "code",
      "execution_count": 333,
      "metadata": {
        "id": "VNUVDH5Y3zRA"
      },
      "outputs": [],
      "source": [
        "## your code"
      ]
    },
    {
      "cell_type": "markdown",
      "metadata": {
        "id": "9Qm7863O3zRB"
      },
      "source": [
        "Select the best model, load the test set and make the predictions. Submit them to kaggle and see the results :)\n",
        "\n",
        "**Note**. X points will depend on your kaggle public leaderboard score.\n",
        "$$ f(score) = 1.0, \\ \\ 0.79 \\leq score < 0.80,$$\n",
        "$$ f(score) = 2.5, \\ \\ 0.80 \\leq score < 0.81,$$ \n",
        "$$ f(score) = 4.0, \\ \\ 0.81 \\leq score $$ \n",
        "Your code should generate the output submitted to kaggle. Fix random seeds to make the results reproducible."
      ]
    },
    {
      "cell_type": "code",
      "execution_count": 333,
      "metadata": {
        "id": "nywQqL-P3zRB"
      },
      "outputs": [],
      "source": [
        ""
      ]
    }
  ],
  "metadata": {
    "kernelspec": {
      "display_name": "Python 3 (ipykernel)",
      "language": "python",
      "name": "python3"
    },
    "language_info": {
      "codemirror_mode": {
        "name": "ipython",
        "version": 3
      },
      "file_extension": ".py",
      "mimetype": "text/x-python",
      "name": "python",
      "nbconvert_exporter": "python",
      "pygments_lexer": "ipython3",
      "version": "3.9.7"
    },
    "colab": {
      "name": "Копия блокнота \"hw_classification.ipynb\"",
      "provenance": [],
      "collapsed_sections": []
    }
  },
  "nbformat": 4,
  "nbformat_minor": 0
}