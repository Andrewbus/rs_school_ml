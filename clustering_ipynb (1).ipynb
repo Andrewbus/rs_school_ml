{
  "cells": [
    {
      "cell_type": "markdown",
      "metadata": {
        "id": "E9W3BRhFG6vX"
      },
      "source": [
        "Each task that is proposed to be completed as part of the homework has a declared \"price\" in points. The maximum possible amount is 10 points, and together with the bonus assignment - 12 points. It is not necessary to complete all the tasks, only a part can be done. Most of the points expect you to write working Python code; sometimes you will need to write comments - for example, to compare several approaches to solve the same problem. Also you can add more cells for your convenience if you need."
      ]
    },
    {
      "cell_type": "markdown",
      "metadata": {
        "id": "8aJlDRb9G6vh"
      },
      "source": [
        "This homework focuses on clustering. We will work with images of handwritten digits, learn how to cluster them using two different methods (hierarchical clustering and the 𝐾-means algorithm), evaluate the quality of the partition and choose the optimal number of clusters, as well as visualize intermediate results."
      ]
    },
    {
      "cell_type": "markdown",
      "metadata": {
        "id": "HUqIa5joG6vv"
      },
      "source": [
        "## 1. Loading data\n",
        "The data we will be working with is available in the scikit-learn library (`sklearn` module) in the `datasets` submodule via the `load_digits` function. The data contains 1,797 observations, each of which is 8×8 pixel image of a handwritten digit from 0 to 9. This is about the same amount of each digit (about 180).\n",
        "\n",
        "For convenience, every image expands to a 64 (8×8) row, so entire numpy array is 1797×64. The color intensity in each pixel is encoded with an integer from 0 to 16.\n",
        "\n",
        "In addition to images, their labels are also known. In this task, we will assume that the labels (as well as their amount) are unknown and try to group the data in such a way that the resulting clusters 'better match' the original ones. Possible options for determining the 'better match' are presented later."
      ]
    },
    {
      "cell_type": "markdown",
      "metadata": {
        "id": "Dxq4FagQG6v2"
      },
      "source": [
        "**(0.25 points)** Load the images into `X` variable, and their labels into `y` variable."
      ]
    },
    {
      "cell_type": "code",
      "execution_count": 1,
      "metadata": {
        "id": "zPN-bUgKG6v4"
      },
      "outputs": [],
      "source": [
        "from sklearn.datasets import load_digits\n",
        "import matplotlib.pyplot as plt\n",
        "import numpy as np\n",
        "import pandas as pd\n",
        "import seaborn as sns"
      ]
    },
    {
      "cell_type": "code",
      "source": [
        "X, y = load_digits(n_class=10, return_X_y=True)"
      ],
      "metadata": {
        "id": "dRCRbuygH5oB"
      },
      "execution_count": 2,
      "outputs": []
    },
    {
      "cell_type": "code",
      "execution_count": 3,
      "metadata": {
        "id": "djPCS0PUG6v5"
      },
      "outputs": [],
      "source": [
        "assert X.shape == (1797, 64)\n",
        "assert y.shape == (1797,)"
      ]
    },
    {
      "cell_type": "markdown",
      "metadata": {
        "id": "e1sBe9M_G6v8"
      },
      "source": [
        "**(0.5 points)** Visualize the first 10 images.\n",
        "\n",
        "- Arrange images on a grid rather than in a row. You may need the `subplot` and `imshow` functions from the `pyplot` module in the `matplotlib` library.\n",
        "- You will also need to reshape the images to 8×8.\n",
        "- Remove ticks and labels from both axes. The `xticks` and `yticks` functions or the `tick_params` function from `pyplot` can help you with this.\n",
        "- Make the output good sized with the `figure` function from `pyplot`."
      ]
    },
    {
      "cell_type": "code",
      "source": [
        "_, axes = plt.subplots(nrows=2, ncols=5, figsize=(10, 5))\n",
        "for ax, image, label in zip(axes.flatten(), X, y):\n",
        "    ax.set_axis_off()\n",
        "    ax.imshow(image.reshape((8, 8)), cmap=plt.cm.gray_r if label % 2 else plt.cm.afmhot_r)\n",
        "    ax.set_title(label)"
      ],
      "metadata": {
        "colab": {
          "base_uri": "https://localhost:8080/",
          "height": 291
        },
        "id": "okvx-333KhhM",
        "outputId": "63b7e2aa-fca4-4bdd-eb3b-1d96d3cb83ad"
      },
      "execution_count": 4,
      "outputs": [
        {
          "output_type": "display_data",
          "data": {
            "text/plain": [
              "<Figure size 720x360 with 10 Axes>"
            ],
            "image/png": "[encoded data removed]"
          },
          "metadata": {
            "needs_background": "light"
          }
        }
      ]
    },
    {
      "cell_type": "markdown",
      "metadata": {
        "id": "nuTf97P1G6wE"
      },
      "source": [
        "## 2. Clustering and quality evaluation"
      ]
    },
    {
      "cell_type": "markdown",
      "metadata": {
        "id": "68R8xJSVG6wH"
      },
      "source": [
        "**(2 points)** Implement the the KMeans algorithm. Use objective function $L = \\sum_{i=1}^{n}|x_{i}-Z_{A(x_{i})}|^{2}$, where $Z_{A(x_{i})}$ is the center of the cluster corresponding to $x_{i}$ object."
      ]
    },
    {
      "cell_type": "code",
      "execution_count": 5,
      "metadata": {
        "id": "WvJd18zrG6wJ"
      },
      "outputs": [],
      "source": [
        "from sklearn.exceptions import NotFittedError\n",
        "from numpy.random import RandomState"
      ]
    },
    {
      "cell_type": "code",
      "execution_count": 6,
      "metadata": {
        "id": "ff8QrHWUG6wM"
      },
      "outputs": [],
      "source": [
        "class CustomKMeans:\n",
        "    def __init__(self, n_clusters=2, max_iter=30, n_init=10, random_state=42):\n",
        "        '''K-Means clustering.\n",
        "        \n",
        "        Args:\n",
        "            n_clusters: int, default=2\n",
        "                The number of clusters to be formed is also \n",
        "                the number of centroids to generate. \n",
        "            max_iter: int, default=300\n",
        "                Maximum number of iterations of the k-means algorithm for a\n",
        "                single run.\n",
        "            n_init: int, default=10\n",
        "                Number of time the k-means algorithm will be run with different\n",
        "                centroid seeds. The final results will be the best output of\n",
        "                n_init consecutive runs in terms of objective function.\n",
        "            random_state: int, default=42\n",
        "                Random state.\n",
        "        '''\n",
        "        self.n_clusters = n_clusters\n",
        "        self.n_init = n_init\n",
        "        self.max_iter = max_iter\n",
        "        self.random_state = RandomState(seed=random_state)\n",
        "        \n",
        "    def calculate_distances_to_centroids(self, X, cluster_centers):\n",
        "        \"\"\"\n",
        "        Returns (n, c) matrix where the element at position (i, j) \n",
        "        is the distance from i-th object to j-th centroid.\"\"\"\n",
        "        # distances = np.array()\n",
        "        # for i in range(len(self.X)):\n",
        "        #   for j in range(len(cluster_centers)):\n",
        "        #     n = self.X[i][0] - cluster_centers[j]\n",
        "        #     c = self.X[i][1] - cluster_centers[j]\n",
        "        #     distances.append([n, c])\n",
        "        for sample in X:\n",
        "          distances = np.linalg.norm(sample - cluster_centers, axis = 1)\n",
        "        distances = np.array(distances)\n",
        "        return distances\n",
        "        \n",
        "            \n",
        "    \n",
        "    def update_centroids(self, X, nearest_clusters):\n",
        "        \"\"\"\n",
        "        Returns numpy array of shape (n_clusters, n_features) - \n",
        "        new clusters that are found by averaging objects belonging \n",
        "        to the corresponding cluster.\"\"\"\n",
        "        for k in range(nearest_clusters.shape[0]):\n",
        "            samples_assigned_to_centroid = (nearest_clusters == k)\n",
        "            nearest_clusters[k,:] = np.mean(X[samples_assigned_to_centroid], axis=0)\n",
        "        return nearest_clusters\n",
        "        \n",
        "    def fit(self, X):\n",
        "        \"\"\"Fit the model.\n",
        "        \n",
        "        Args:\n",
        "            X: numpy array of shape (n_samples, n_features)\n",
        "        \"\"\"\n",
        "        assert X.shape[0] >= self.n_clusters\n",
        "        # <your code>\n",
        "        \n",
        "        return self\n",
        "            \n",
        "    \n",
        "    def predict(self, X):\n",
        "        \"\"\"Predict classes.\n",
        "        \n",
        "        Args:\n",
        "            X: numpy array of shape (n_samples, n_features)\n",
        "        Returns:\n",
        "            y: numpy array of shape (n_samples,)\n",
        "                Vector containing predicted cluster labels.\n",
        "        \"\"\"\n",
        "        if hasattr(self, 'cluster_centers_'):\n",
        "            # <your code>\n",
        "            pass\n",
        "        else: \n",
        "            raise NotFittedError(\"CustomKMeans instance is not fitted yet\")"
      ]
    },
    {
      "cell_type": "markdown",
      "metadata": {
        "id": "FCiYmttoG6wP"
      },
      "source": [
        "**(1 points)** Get the `X` array partition into 10 clusters. Visualize the centers of clusters.\n",
        "- We will assume that the center of the cluster is average value of all observations belonging to the cluster.\n",
        "- The cluster centers should have the same shape as our observations (64). So you have to average the points across the rows."
      ]
    },
    {
      "cell_type": "code",
      "execution_count": null,
      "metadata": {
        "id": "b1pkWXiLG6wS"
      },
      "outputs": [],
      "source": [
        "custom_kmeans_labels = ...\n",
        "assert custor_kmeans_labels.shape == (1797,)"
      ]
    },
    {
      "cell_type": "code",
      "execution_count": null,
      "metadata": {
        "id": "vaRHL8JKG6wT"
      },
      "outputs": [],
      "source": [
        ""
      ]
    },
    {
      "cell_type": "markdown",
      "metadata": {
        "id": "MG86yVRhG6wW"
      },
      "source": [
        "**(0.5 points)** Experiment with `max_iter` and `n_init` parameters. Look at the range of values of the objective function, it's best values, at what parameters and how often they are achieved."
      ]
    },
    {
      "cell_type": "code",
      "execution_count": null,
      "metadata": {
        "id": "RpbO8F6lG6wY"
      },
      "outputs": [],
      "source": [
        ""
      ]
    },
    {
      "cell_type": "markdown",
      "metadata": {
        "id": "yzuVpppHG6wZ"
      },
      "source": [
        "Now we will use two popular algorithms: hierarchical clustering and $K$-means clustering. These and other algorithms are available in the `scikit-learn` module in the `cluster` submodule. Hierarchical clustering is called `AgglomerativeClustering`, and the $K$-means method is called `KMeans`.\n",
        "\n",
        "**(0.5 points)** Use each of the two methods: hierarchical clustering and KMeans. Get the `X` array partition into 10 clusters.\n",
        "\n",
        "- Note that `AgglomerativeClustering` does not have a `predict` method, so you can either use the `fit_predict` method or use the `fit` method and then look at the `labels_` attribute of the class instance.\n",
        "- Kmeans performs multiple runs (default 10) with random centers and then returns the best partition in terms of average distance within the clusters. You can increase the number of runs to improve the quality of predictions in the `i_init` parameter."
      ]
    },
    {
      "cell_type": "code",
      "execution_count": 7,
      "metadata": {
        "id": "Ff9epliJG6wZ"
      },
      "outputs": [],
      "source": [
        "from sklearn.cluster import AgglomerativeClustering, KMeans\n",
        "from sklearn.model_selection import train_test_split\n",
        "from sklearn.metrics import accuracy_score"
      ]
    },
    {
      "cell_type": "code",
      "source": [
        "clustering = AgglomerativeClustering().fit(X)\n",
        "clustering.fit_predict(X, y)"
      ],
      "metadata": {
        "colab": {
          "base_uri": "https://localhost:8080/"
        },
        "id": "DbcyRAPPKx0K",
        "outputId": "13f3ee65-3d82-4b79-bb9f-afe290cefab3"
      },
      "execution_count": 8,
      "outputs": [
        {
          "output_type": "execute_result",
          "data": {
            "text/plain": [
              "array([1, 0, 0, ..., 0, 0, 0])"
            ]
          },
          "metadata": {},
          "execution_count": 8
        }
      ]
    },
    {
      "cell_type": "code",
      "source": [
        "kmeans = KMeans(n_clusters=10, random_state=0).fit(X)\n",
        "kmeans.labels_"
      ],
      "metadata": {
        "colab": {
          "base_uri": "https://localhost:8080/"
        },
        "id": "-mTcBJ_1MuZN",
        "outputId": "30443b06-488f-41ca-c1b4-549737ccbb9d"
      },
      "execution_count": 9,
      "outputs": [
        {
          "output_type": "execute_result",
          "data": {
            "text/plain": [
              "array([5, 7, 7, ..., 7, 3, 3], dtype=int32)"
            ]
          },
          "metadata": {},
          "execution_count": 9
        }
      ]
    },
    {
      "cell_type": "code",
      "source": [
        "hierarchical_labels = clustering.labels_\n",
        "kmeans_labels = kmeans.labels_"
      ],
      "metadata": {
        "id": "9te_OWE3ND2w"
      },
      "execution_count": 10,
      "outputs": []
    },
    {
      "cell_type": "code",
      "execution_count": 11,
      "metadata": {
        "id": "0951LyhMG6wa"
      },
      "outputs": [],
      "source": [
        "assert hierarchical_labels.shape == (1797,)\n",
        "assert kmeans_labels.shape == (1797,)"
      ]
    },
    {
      "cell_type": "markdown",
      "metadata": {
        "id": "5q0zcIDwG6wb"
      },
      "source": [
        "**(0.5 points)** Visualize the centers of clusters obtained by both methods."
      ]
    },
    {
      "cell_type": "code",
      "execution_count": 12,
      "metadata": {
        "id": "ALPzOWl_G6wc",
        "colab": {
          "base_uri": "https://localhost:8080/",
          "height": 197
        },
        "outputId": "c8023e78-a43f-4741-8a2c-7903ab7e5a89"
      },
      "outputs": [
        {
          "output_type": "display_data",
          "data": {
            "text/plain": [
              "<Figure size 720x216 with 10 Axes>"
            ],
            "image/png": "[encoded data removed]"
          },
          "metadata": {}
        }
      ],
      "source": [
        "fig, ax = plt.subplots(2, 5, figsize=(10,3))\n",
        "centers = kmeans.cluster_centers_.reshape(10, 8, 8)\n",
        "\n",
        "for axi, center in zip(ax.flat, centers):\n",
        "    axi.set(xticks=[], yticks=[])\n",
        "    axi.imshow(center, interpolation='nearest', cmap=plt.cm.afmhot_r)"
      ]
    },
    {
      "cell_type": "markdown",
      "metadata": {
        "id": "Vi_WQtNRG6wp"
      },
      "source": [
        "In a situation where the true number of classes is unknown, we can select it by maximazing some metric.\n",
        "\n",
        "When we can set some distance function between our observations, we can consider the `silhouette` distance as a function of measuring the quality of the clustering. Let's show how it is calculated:"
      ]
    },
    {
      "cell_type": "markdown",
      "metadata": {
        "id": "eOfVMifJG6wq"
      },
      "source": [
        "Let $X$ – set of observations, $M \\subset X$ – one of the clusters obtained as a result of clustering process, $\\rho$ – some metric on $X$. Let's choose one observation $x \\in M$. Denote $a(x)$ as the average distance from $x$ to  $x'$ points from the same cluster:\n",
        "$$\n",
        "a(x) = \\frac{1}{|M| - 1} \\sum_{x' \\in M,\\, x' \\ne x} \\rho(x,\\, x')\n",
        "$$\n",
        "\n",
        "Denote $b(x)$ as minimun of average distances from $x$ to $x''$ from some other cluster $N$:\n",
        "$$\n",
        "b(x) = \\min_{N \\ne M} \\frac{1}{|N|} \\sum_{x'' \\in N} \\rho(x,\\, x'')\n",
        "$$\n",
        "\n",
        "The silhouette is difference between a(x) and b(x), normalized to $[-1, \\, 1]$ and averaged over all observations:\n",
        "$$\n",
        "\\frac{1}{|X|} \\sum_{x \\in X} \\frac{b(x) - a(x)}{\\max(a(x),\\, b(x))}\n",
        "$$\n",
        "\n",
        "The implementation of this metric in the `scikit-learn` is the `silhouette_score` function from the `metrics` submidule."
      ]
    },
    {
      "cell_type": "markdown",
      "metadata": {
        "collapsed": true,
        "id": "FPCQvrloG6wr"
      },
      "source": [
        "**(0.75 point)** For each $K$ between 2 and 20 inclusive, partition of the array $X$ into $K$ clusters using both methods. Calculate the silhouette score and visualize it for both methods on the same plot ($K$ on the $x$ axis and silhouette score on the $y$ axis). Sign the axes and make a legend."
      ]
    },
    {
      "cell_type": "code",
      "execution_count": 13,
      "metadata": {
        "id": "Ru5ZBED4G6ws"
      },
      "outputs": [],
      "source": [
        "from sklearn.metrics import silhouette_score\n",
        "score = []\n",
        "n = []\n",
        "for n_clusters in range(2, 21):\n",
        "    cluster_ = KMeans(n_clusters=n_clusters).fit(X)\n",
        "    preds = cluster_.predict(X)\n",
        "    centers = cluster_.cluster_centers_\n",
        "    score1 = silhouette_score(X, preds, metric='euclidean')\n",
        "    score.append(score1)\n",
        "    n.append(n_clusters)"
      ]
    },
    {
      "cell_type": "code",
      "source": [
        "plt.xlabel('n_clusters')\n",
        "plt.ylabel('score')\n",
        "plt.scatter(x=n, y=score, color='red')"
      ],
      "metadata": {
        "colab": {
          "base_uri": "https://localhost:8080/",
          "height": 298
        },
        "id": "txrmNf-NPFSH",
        "outputId": "9981c2ce-3619-475a-b116-ff614bcfacda"
      },
      "execution_count": 14,
      "outputs": [
        {
          "output_type": "execute_result",
          "data": {
            "text/plain": [
              "<matplotlib.collections.PathCollection at 0x7f0d7e2d40d0>"
            ]
          },
          "metadata": {},
          "execution_count": 14
        },
        {
          "output_type": "display_data",
          "data": {
            "text/plain": [
              "<Figure size 432x288 with 1 Axes>"
            ],
            "image/png": "[encoded data removed]"
          },
          "metadata": {
            "needs_background": "light"
          }
        }
      ]
    },
    {
      "cell_type": "code",
      "source": [
        "score = []\n",
        "n = []\n",
        "for n_clusters in range(2, 21):\n",
        "    preds = AgglomerativeClustering(n_clusters=n_clusters).fit_predict(X)\n",
        "    centers = cluster_.cluster_centers_\n",
        "    score2 = silhouette_score (X, preds, metric='euclidean')\n",
        "    score.append(score2)\n",
        "    n.append(n_clusters)"
      ],
      "metadata": {
        "id": "r7biTHX0PXSW"
      },
      "execution_count": 15,
      "outputs": []
    },
    {
      "cell_type": "code",
      "source": [
        "plt.xlabel('n_clusters')\n",
        "plt.ylabel('score')\n",
        "plt.scatter(x=n, y=score, color='green')"
      ],
      "metadata": {
        "colab": {
          "base_uri": "https://localhost:8080/",
          "height": 298
        },
        "id": "4iGgJeh3Pvmf",
        "outputId": "bc0830bb-64a5-4810-84ec-ff3132a31666"
      },
      "execution_count": 16,
      "outputs": [
        {
          "output_type": "execute_result",
          "data": {
            "text/plain": [
              "<matplotlib.collections.PathCollection at 0x7f0d7a5ec210>"
            ]
          },
          "metadata": {},
          "execution_count": 16
        },
        {
          "output_type": "display_data",
          "data": {
            "text/plain": [
              "<Figure size 432x288 with 1 Axes>"
            ],
            "image/png": "[encoded data removed]"
          },
          "metadata": {
            "needs_background": "light"
          }
        }
      ]
    },
    {
      "cell_type": "markdown",
      "metadata": {
        "id": "nGyKq2YMG6wt"
      },
      "source": [
        "When we know the true clustering labels, the clustering result can be compared to them using measures such as `homogeneity`, `completeness` and their harmonic mean - $V$-score. The definitions of these quantities are rather bulky and are based on the [entropy of the probability distribution](https://ru.wikipedia.org/wiki/Информационная_энтропия). Details are given in [this article](http://aclweb.org/anthology/D/D07/D07-1043.pdf). In practice, it's enough to know that `homogeneity`, `completeness` and $V$-score are in the range from 0 and 1, and the more, the better.\n",
        "\n",
        "Since we know what digit each image is (`y` array), we can compare the clustering results to it using the measures listed above."
      ]
    },
    {
      "cell_type": "markdown",
      "metadata": {
        "id": "7_CDzcrPG6wt"
      },
      "source": [
        "**(0.5 points)** Repeat the previous task using $V$-measure instead of silhouette."
      ]
    },
    {
      "cell_type": "code",
      "execution_count": 17,
      "metadata": {
        "id": "L4NXUSwKG6wu",
        "colab": {
          "base_uri": "https://localhost:8080/",
          "height": 299
        },
        "outputId": "b4c7998c-c00e-4b34-932a-0c1a6c36cd78"
      },
      "outputs": [
        {
          "output_type": "execute_result",
          "data": {
            "text/plain": [
              "<matplotlib.collections.PathCollection at 0x7f0d76480650>"
            ]
          },
          "metadata": {},
          "execution_count": 17
        },
        {
          "output_type": "display_data",
          "data": {
            "text/plain": [
              "<Figure size 432x288 with 1 Axes>"
            ],
            "image/png": "[encoded data removed]"
          },
          "metadata": {
            "needs_background": "light"
          }
        }
      ],
      "source": [
        "from sklearn.metrics import v_measure_score as vms\n",
        "vs, n = [], []\n",
        "for n_clusters in range(2,21):\n",
        "    cluster_ = KMeans(n_clusters=n_clusters).fit(X)\n",
        "    preds = cluster_.predict(X)\n",
        "    centers = cluster_.cluster_centers_\n",
        "    score = vms(preds, y)\n",
        "    vs.append(score)\n",
        "    n.append(n_clusters)\n",
        "\n",
        "plt.xlabel('n_clusters')\n",
        "plt.ylabel('v-score')\n",
        "plt.scatter(x=n, y=vs, color='red')"
      ]
    },
    {
      "cell_type": "code",
      "source": [
        "vs, n = [], []\n",
        "for n_clusters in range(2, 21):\n",
        "    preds = AgglomerativeClustering(n_clusters=n_clusters).fit_predict(X)\n",
        "    centers = cluster_.cluster_centers_\n",
        "\n",
        "    score = vms(preds, y)\n",
        "    vs.append(score)\n",
        "    n.append(n_clusters)\n",
        "\n",
        "plt.xlabel('n_clusters')\n",
        "plt.ylabel('v-score')\n",
        "plt.scatter(x=n, y=vs, color='green')"
      ],
      "metadata": {
        "colab": {
          "base_uri": "https://localhost:8080/",
          "height": 298
        },
        "id": "5s-7Se5TTDMw",
        "outputId": "2c8cef15-6d08-4310-de89-6f65f109af38"
      },
      "execution_count": 18,
      "outputs": [
        {
          "output_type": "execute_result",
          "data": {
            "text/plain": [
              "<matplotlib.collections.PathCollection at 0x7f0d76480510>"
            ]
          },
          "metadata": {},
          "execution_count": 18
        },
        {
          "output_type": "display_data",
          "data": {
            "text/plain": [
              "<Figure size 432x288 with 1 Axes>"
            ],
            "image/png": "[encoded data removed]"
          },
          "metadata": {
            "needs_background": "light"
          }
        }
      ]
    },
    {
      "cell_type": "markdown",
      "metadata": {
        "id": "40W6dk6aG6wu"
      },
      "source": [
        "## 3. Feature space dimensionality reduction\n",
        "\n",
        "In some cases, especially when there are a large number of features, when not all of them are informative, and some of them are correlated, it can be useful to reduce the dimension of the feature space. This mean that instead of $d$ original features, we will go to $d'\\ll d$ new ones. And if earlier our data were presented in the form of an $n×d$ matrix, then it will presented as a $n×d'$.\n",
        "\n",
        "There are two popular dimensionality reduction approaches:\n",
        "- select new features from existing features;\n",
        "- extract the new features by transforming old ones, for example, by making $d'$ different linear combinations of columns of an $n×d$ matrix.\n",
        "\n",
        "One widely used dimensionality reduction technique is the Singular Value Decomposition (SVD). This method allows you to construct any number $d'\\leq d$ of new features in such a way that they are the most informative (in some sense).\n",
        "\n",
        "The `scikit-learn` module has several implementations of singular value decomposition. We will use the `TruncatedSVD` class from the `decomposition` submodule.\n",
        "\n",
        "**Note:** The singular value decomposition of the matrix $M$ is usually written as $M=U \\Sigma V^{*}$. `TruncatedSVD`, in turn, returns only the $d'$ first columns of the matrix $U$."
      ]
    },
    {
      "cell_type": "markdown",
      "metadata": {
        "id": "ikFpriNZG6wv"
      },
      "source": [
        "**(0.75 point)** Perform a singular value decomposition of the $X$ matrix, leaving 2, 5, 10, 20 features. In each case, perform hierarchical clustering and $K$-Means clustering (take the number of clusters equal to 10). Calculate the silhouette and $V$-score and compare them to corresponding values obtained from the original data.\n",
        "\n",
        "**Note**: It is not valid to compare the silhouette calculated with different metrics. Even if we use the same metric function when calculating the distance between points in the data, after applying dimensionality reduction or other data transformations, we will (not always) get different silhouette scores. Therefore, after training the clustering algorithm, to compare the result of clustering, you need to calculate the silhouette on the original data."
      ]
    },
    {
      "cell_type": "code",
      "execution_count": 19,
      "metadata": {
        "id": "Za_jbJu6G6ww"
      },
      "outputs": [],
      "source": [
        "from sklearn.decomposition import TruncatedSVD as TSVD\n",
        "import numpy as np"
      ]
    },
    {
      "cell_type": "code",
      "source": [
        "from sklearn.cluster import KMeans\n",
        "from sklearn.metrics import accuracy_score, v_measure_score"
      ],
      "metadata": {
        "id": "tgDXxBwjP23Q"
      },
      "execution_count": 20,
      "outputs": []
    },
    {
      "cell_type": "code",
      "source": [
        "n_component = [2, 5, 10, 20]\n",
        "s_score_h, s_score_kmeans, v_score_h, v_score_kmeans = [], [], [], []\n",
        "\n",
        "\n",
        "for i in n_component:\n",
        "    SVD = TSVD(n_components=i)\n",
        "    X_ft=SVD.fit_transform(X)\n",
        "    model_hierarchical = AgglomerativeClustering(n_clusters=10)\n",
        "    s_score_h.append(silhouette_score(X_ft, model_hierarchical.fit_predict(X_ft)))\n",
        "    v_score_h.append(v_measure_score(y, model_hierarchical.fit_predict(X_ft)))\n",
        "    model_kmeans = KMeans(n_clusters=10, n_init=50) \n",
        "    s_score_kmeans.append(silhouette_score(X_ft, model_kmeans.fit_predict(X_ft)))\n",
        "    v_score_kmeans.append(v_measure_score(y, model_kmeans.fit_predict(X_ft)))"
      ],
      "metadata": {
        "id": "pgHj4ZroP2yt"
      },
      "execution_count": 21,
      "outputs": []
    },
    {
      "cell_type": "markdown",
      "source": [
        "Выведем максимальные значения V-score и the silhouette:"
      ],
      "metadata": {
        "id": "lqxIx6_XBk1k"
      }
    },
    {
      "cell_type": "code",
      "source": [
        "print(f'Максимальное значение V-score при AgglomerativeClustering {max(v_score_h)}')\n",
        "print(f'Максимальное значение V-score при Kmeans {max(v_score_kmeans)}')\n",
        "print(f'Максимальное значение silhouette score при AgglomerativeClustering {max(s_score_h)}')\n",
        "print(f'Максимальное значение silhouette score при Kmeans {max(s_score_kmeans)}')"
      ],
      "metadata": {
        "id": "irxH1rm6P2uv",
        "colab": {
          "base_uri": "https://localhost:8080/"
        },
        "outputId": "22cc3523-c262-4fa8-d7b5-fe153381153a"
      },
      "execution_count": 22,
      "outputs": [
        {
          "output_type": "stream",
          "name": "stdout",
          "text": [
            "Максимальное значение V-score при AgglomerativeClustering 0.8259753348813222\n",
            "Максимальное значение V-score при Kmeans 0.7434021580143714\n",
            "Максимальное значение silhouette score при AgglomerativeClustering 0.28081696672442763\n",
            "Максимальное значение silhouette score при Kmeans 0.3491185159228997\n"
          ]
        }
      ]
    },
    {
      "cell_type": "markdown",
      "metadata": {
        "id": "H-0EhH1_G6ww"
      },
      "source": [
        "Another popular dimensionality reduction approach that is useful for working with images is t-distributed stochastic neighbor embeddings, abbreviated `tSNE`. Unlike singular value decomposition, this it is non-linear transformation. It's main idea is to map points from a space of dimension `d` to another space of dimension 2 or 3 in such a way that the distances between points are mostly preserved. Mathematical details can be found, for example, [here](https://en.wikipedia.org/wiki/T-distributed_stochastic_neighbor_embedding).\n",
        "\n",
        "The implementation of `tSNE` in the `scikit-learn` library is the `TSNE` class in the `manifold` submodule.\n",
        "\n",
        "**Note:** In recent years [UMAP](https://github.com/lmcinnes/umap) is often used istead of `tSNE`. It is a faster algorithm with similar properties. We don't ask you to use `UMAP` because it requires you to install another dependency, the `umap-learn` library. Those who wish can perform the following task using `UMAP`."
      ]
    },
    {
      "cell_type": "markdown",
      "metadata": {
        "id": "ANT4j2fxG6wx"
      },
      "source": [
        "**(0.5 points)** Perform a tSNE-transform of the `X` matrix, leaving 2 features. Visualize the obtained data in the form of a scatter plot form: the first feature on the horizontal axis, and the second one the vertical axis. Color the points according to the digits they belong to.\n",
        "\n",
        "- The `c` parameter in the plt.scatter function is responsible for the color of the points. Pass the true labels to it."
      ]
    },
    {
      "cell_type": "code",
      "execution_count": 23,
      "metadata": {
        "id": "KoPsbQheG6wy"
      },
      "outputs": [],
      "source": [
        "from sklearn.manifold import TSNE"
      ]
    },
    {
      "cell_type": "code",
      "source": [
        "X_t = TSNE(n_components=2).fit_transform(X)"
      ],
      "metadata": {
        "colab": {
          "base_uri": "https://localhost:8080/"
        },
        "id": "gJo_3OunFdCc",
        "outputId": "41101427-c086-42fd-e5c8-16b26f69bec5"
      },
      "execution_count": 24,
      "outputs": [
        {
          "output_type": "stream",
          "name": "stderr",
          "text": [
            "/usr/local/lib/python3.7/dist-packages/sklearn/manifold/_t_sne.py:783: FutureWarning: The default initialization in TSNE will change from 'random' to 'pca' in 1.2.\n",
            "  FutureWarning,\n",
            "/usr/local/lib/python3.7/dist-packages/sklearn/manifold/_t_sne.py:793: FutureWarning: The default learning rate in TSNE will change from 200.0 to 'auto' in 1.2.\n",
            "  FutureWarning,\n"
          ]
        }
      ]
    },
    {
      "cell_type": "code",
      "source": [
        "plt.figure(figsize=(20,10))\n",
        "fig, ax = plt.subplots()\n",
        "scatter = ax.scatter(X_t[:,0], X_t[:,1], c=y)\n",
        "plt.show()"
      ],
      "metadata": {
        "colab": {
          "base_uri": "https://localhost:8080/",
          "height": 283
        },
        "id": "WegiVPUjFc6Z",
        "outputId": "e3865886-948c-408a-e68e-acaea6a88df4"
      },
      "execution_count": 25,
      "outputs": [
        {
          "output_type": "display_data",
          "data": {
            "text/plain": [
              "<Figure size 1440x720 with 0 Axes>"
            ]
          },
          "metadata": {}
        },
        {
          "output_type": "display_data",
          "data": {
            "text/plain": [
              "<Figure size 432x288 with 1 Axes>"
            ],
            "image/png": "[encoded data removed]"
          },
          "metadata": {
            "needs_background": "light"
          }
        }
      ]
    },
    {
      "cell_type": "markdown",
      "metadata": {
        "id": "aimW71eOG6wy"
      },
      "source": [
        "**(0.5 points)** From the data transformed using the tSNE, perform hierarchical clustering and $K$-means clustering (take the number of clusters equal to 10). Calculate the silhouette and the $V$-score and compare them to corresponding values obtained from the original data."
      ]
    },
    {
      "cell_type": "code",
      "execution_count": 28,
      "metadata": {
        "id": "woxBf6MdG6wz"
      },
      "outputs": [],
      "source": [
        "model_h = AgglomerativeClustering(n_clusters=10)\n",
        "s_score_ = (silhouette_score(X, model_h.fit_predict(X)))\n",
        "s_score_tsne = (silhouette_score(X_t, model_h.fit_predict(X_t)))\n",
        "v_score_ = v_measure_score(y, model_h.fit_predict(X))\n",
        "v_score_tsne = v_measure_score(y, model_h.fit_predict(X_t))"
      ]
    },
    {
      "cell_type": "markdown",
      "source": [
        "Значение silhouette score до и после TSNE:\n"
      ],
      "metadata": {
        "id": "4U793o4_H6uz"
      }
    },
    {
      "cell_type": "code",
      "source": [
        "print(s_score_, s_score_tsne, sep=', ')"
      ],
      "metadata": {
        "colab": {
          "base_uri": "https://localhost:8080/"
        },
        "id": "MDC9DigqHutn",
        "outputId": "a164ec04-3c1f-461b-b6ca-3790a895a638"
      },
      "execution_count": 29,
      "outputs": [
        {
          "output_type": "stream",
          "name": "stdout",
          "text": [
            "0.17849659940596496, 0.63727176\n"
          ]
        }
      ]
    },
    {
      "cell_type": "markdown",
      "source": [
        "Значение V-score до и после TSNE:"
      ],
      "metadata": {
        "id": "fBNu5TmKJVDR"
      }
    },
    {
      "cell_type": "code",
      "source": [
        "print(v_score_, v_score_tsne, sep=', ')"
      ],
      "metadata": {
        "colab": {
          "base_uri": "https://localhost:8080/"
        },
        "id": "grR3sOxrJNSX",
        "outputId": "03837617-aa52-40bc-d945-378d57e67415"
      },
      "execution_count": 30,
      "outputs": [
        {
          "output_type": "stream",
          "name": "stdout",
          "text": [
            "0.8681701126909083, 0.9010373046399174\n"
          ]
        }
      ]
    },
    {
      "cell_type": "markdown",
      "source": [
        "Значение силуэта после применения TSNE выросло значительно, а V-score почти не поменялся."
      ],
      "metadata": {
        "id": "U0eoZ3x1JimX"
      }
    },
    {
      "cell_type": "code",
      "source": [
        "model_k = KMeans(n_clusters=10, n_init=30)\n",
        "s_score_2 = (silhouette_score(X, model_k.fit_predict(X)))\n",
        "s_score_tsne2 = (silhouette_score(X_t, model_k.fit_predict(X_t)))\n",
        "v_score_2 = v_measure_score(y, model_k.fit_predict(X))\n",
        "v_score_tsne2 = v_measure_score(y, model_k.fit_predict(X_t))"
      ],
      "metadata": {
        "id": "NwlXUD3FJ22E"
      },
      "execution_count": 34,
      "outputs": []
    },
    {
      "cell_type": "markdown",
      "source": [
        "Значение silhouette score до и после TSNE:"
      ],
      "metadata": {
        "id": "2DU3UD_wKLlZ"
      }
    },
    {
      "cell_type": "code",
      "source": [
        "print(s_score_2, s_score_tsne2, sep=', ')"
      ],
      "metadata": {
        "colab": {
          "base_uri": "https://localhost:8080/"
        },
        "id": "5FRT5gHSJ2yH",
        "outputId": "a56754ff-8fea-49fb-bf4d-63d8b57a5b62"
      },
      "execution_count": 35,
      "outputs": [
        {
          "output_type": "stream",
          "name": "stdout",
          "text": [
            "0.18250367210596583, 0.6412066\n"
          ]
        }
      ]
    },
    {
      "cell_type": "markdown",
      "source": [
        "Значение V-score до и после TSNE:"
      ],
      "metadata": {
        "id": "PmrdltwyKPE9"
      }
    },
    {
      "cell_type": "code",
      "source": [
        "print(v_score_2, v_score_tsne2, sep=', ')"
      ],
      "metadata": {
        "colab": {
          "base_uri": "https://localhost:8080/"
        },
        "id": "05oao6qhKLIH",
        "outputId": "f483f28b-474d-4604-ded9-674e5e306084"
      },
      "execution_count": 36,
      "outputs": [
        {
          "output_type": "stream",
          "name": "stdout",
          "text": [
            "0.7441790432719377, 0.9090583116473796\n"
          ]
        }
      ]
    },
    {
      "cell_type": "markdown",
      "source": [
        "Значение силуэта после применения TSNE выросло значительно, а V-score в меньшей степени, но сильнее, чем при AgglomerativeClustering."
      ],
      "metadata": {
        "id": "UET_HgfMNC31"
      }
    },
    {
      "cell_type": "markdown",
      "metadata": {
        "id": "KWU9Jk9XG6wz"
      },
      "source": [
        "**(0.25 points)** Choose the best partition (in terms of silhouette or $V$-score) and visualize the centers of clusters with images. Did you managed to make each digit correspond to one center of the cluster?"
      ]
    },
    {
      "cell_type": "code",
      "execution_count": 40,
      "metadata": {
        "id": "xtEYL1HvG6w0",
        "colab": {
          "base_uri": "https://localhost:8080/",
          "height": 341
        },
        "outputId": "e105b540-9d30-4c3e-9734-28ee5c548a2a"
      },
      "outputs": [
        {
          "output_type": "display_data",
          "data": {
            "text/plain": [
              "<Figure size 864x432 with 10 Axes>"
            ],
            "image/png": "[encoded data removed]"
          },
          "metadata": {
            "needs_background": "light"
          }
        }
      ],
      "source": [
        "model_kmeans = KMeans(n_clusters=10, n_init=50) \n",
        "kmeans_fp = model_kmeans.fit_predict(X_t)\n",
        "plt.figure(figsize=(12,6))\n",
        "img = X.reshape(-1, 8, 8)\n",
        "for i in range(10):\n",
        "  plt.subplot(2, 5, i+1)\n",
        "  plt.imshow(np.mean(img[kmeans_fp==i], axis = 0), cmap=plt.cm.afmhot_r)"
      ]
    },
    {
      "cell_type": "markdown",
      "metadata": {
        "id": "Ae-HVPZbG6w2"
      },
      "source": [
        "## 4. Results and bonus part"
      ]
    },
    {
      "cell_type": "markdown",
      "metadata": {
        "id": "eJCMLaxuG6w4"
      },
      "source": [
        "Write in free form what conclusions you made after completing this assignment. Answer the following questions:\n",
        "\n",
        "**(0.5 points)** Which algorithm gives more meaningful results - hierarchical clustering or $K$- means clustering. Does it depend on the algorithm settings or on the quality evaluation method?"
      ]
    },
    {
      "cell_type": "markdown",
      "source": [
        "V-score незначительно ниже при KMeans до применения TSNE, после значения выравниваются.\n",
        "Значения силуэта практически идентичны. Таким образом оба алгоритма имеют право на жизнь."
      ],
      "metadata": {
        "id": "sV1zQjdzO99V"
      }
    },
    {
      "cell_type": "markdown",
      "metadata": {
        "id": "F6JBiLQsG6w5"
      },
      "source": [
        "**(0.5 points)** Imagine the situation where after hierarchical clustering, you need to cluster new data in the same way without retraining the model. Suggest a method how you will do it and how you will measure the quality of clustering of new data."
      ]
    },
    {
      "cell_type": "markdown",
      "source": [
        "Возможно поможет KNN метод"
      ],
      "metadata": {
        "id": "hY6JfUOlQLw5"
      }
    },
    {
      "cell_type": "code",
      "execution_count": null,
      "metadata": {
        "id": "mAXqXt2AG6w6"
      },
      "outputs": [],
      "source": [
        ""
      ]
    },
    {
      "cell_type": "markdown",
      "metadata": {
        "collapsed": true,
        "id": "p3lWY-_NG6w6"
      },
      "source": [
        "**(0.5 points)** Does dimensionality reduction improve clustering results?"
      ]
    },
    {
      "cell_type": "markdown",
      "source": [
        "Да. Это можно наблюдать в эксперементах чуть выше."
      ],
      "metadata": {
        "id": "YWpk-zK1QXMg"
      }
    },
    {
      "cell_type": "code",
      "execution_count": null,
      "metadata": {
        "id": "RA1NNGyzG6w8"
      },
      "outputs": [],
      "source": [
        ""
      ]
    },
    {
      "cell_type": "markdown",
      "metadata": {
        "id": "TnJspFBcG6w9"
      },
      "source": [
        "**(0.5 points)** How to evaluate the quality of dimensional reduction? Suggest at least 2 options."
      ]
    },
    {
      "cell_type": "markdown",
      "source": [
        "1) При помощи метрик (V-score,silhouette score) \n",
        "2) При помощи визуализации ценров кластеров"
      ],
      "metadata": {
        "id": "-lop0reFQp8l"
      }
    },
    {
      "cell_type": "markdown",
      "source": [
        ""
      ],
      "metadata": {
        "id": "tGwv_MwwRHS2"
      }
    },
    {
      "cell_type": "code",
      "execution_count": 37,
      "metadata": {
        "id": "orT44gKVG6w-"
      },
      "outputs": [],
      "source": [
        ""
      ]
    },
    {
      "cell_type": "markdown",
      "metadata": {
        "id": "HpQCoIwOG6w-"
      },
      "source": [
        "**(Bonus 2 points)** Load the [MNIST Handwritten Digits](http://yann.lecun.com/exdb/mnist) dataset. You can also do it with `scikit-learn` as explained [here](https://stackoverflow.com/a/60450028). Explore the data and try to cluster it using different approaches. Compare results of these approaches using the silhouette and the $V$-score."
      ]
    },
    {
      "cell_type": "code",
      "execution_count": 41,
      "metadata": {
        "id": "pCZEJgnCG6w_"
      },
      "outputs": [],
      "source": [
        "from sklearn.datasets import fetch_openml\n",
        "X, y = fetch_openml('mnist_784', version=1, return_X_y=True)"
      ]
    },
    {
      "cell_type": "code",
      "source": [
        "X.head()"
      ],
      "metadata": {
        "colab": {
          "base_uri": "https://localhost:8080/",
          "height": 299
        },
        "id": "Ixe4AW4PRjig",
        "outputId": "49b4c547-f3f0-4dd1-db30-2f7e2ef88c92"
      },
      "execution_count": 42,
      "outputs": [
        {
          "output_type": "execute_result",
          "data": {
            "text/plain": [
              "   pixel1  pixel2  pixel3  pixel4  pixel5  pixel6  pixel7  pixel8  pixel9  \\\n",
              "0     0.0     0.0     0.0     0.0     0.0     0.0     0.0     0.0     0.0   \n",
              "1     0.0     0.0     0.0     0.0     0.0     0.0     0.0     0.0     0.0   \n",
              "2     0.0     0.0     0.0     0.0     0.0     0.0     0.0     0.0     0.0   \n",
              "3     0.0     0.0     0.0     0.0     0.0     0.0     0.0     0.0     0.0   \n",
              "4     0.0     0.0     0.0     0.0     0.0     0.0     0.0     0.0     0.0   \n",
              "\n",
              "   pixel10  ...  pixel775  pixel776  pixel777  pixel778  pixel779  pixel780  \\\n",
              "0      0.0  ...       0.0       0.0       0.0       0.0       0.0       0.0   \n",
              "1      0.0  ...       0.0       0.0       0.0       0.0       0.0       0.0   \n",
              "2      0.0  ...       0.0       0.0       0.0       0.0       0.0       0.0   \n",
              "3      0.0  ...       0.0       0.0       0.0       0.0       0.0       0.0   \n",
              "4      0.0  ...       0.0       0.0       0.0       0.0       0.0       0.0   \n",
              "\n",
              "   pixel781  pixel782  pixel783  pixel784  \n",
              "0       0.0       0.0       0.0       0.0  \n",
              "1       0.0       0.0       0.0       0.0  \n",
              "2       0.0       0.0       0.0       0.0  \n",
              "3       0.0       0.0       0.0       0.0  \n",
              "4       0.0       0.0       0.0       0.0  \n",
              "\n",
              "[5 rows x 784 columns]"
            ],
            "text/html": [
              "\n",
              "  <div id=\"df-109effac-185e-45cf-a8d5-32452f0ee024\">\n",
              "    <div class=\"colab-df-container\">\n",
              "      <div>\n",
              "<style scoped>\n",
              "    .dataframe tbody tr th:only-of-type {\n",
              "        vertical-align: middle;\n",
              "    }\n",
              "\n",
              "    .dataframe tbody tr th {\n",
              "        vertical-align: top;\n",
              "    }\n",
              "\n",
              "    .dataframe thead th {\n",
              "        text-align: right;\n",
              "    }\n",
              "</style>\n",
              "<table border=\"1\" class=\"dataframe\">\n",
              "  <thead>\n",
              "    <tr style=\"text-align: right;\">\n",
              "      <th></th>\n",
              "      <th>pixel1</th>\n",
              "      <th>pixel2</th>\n",
              "      <th>pixel3</th>\n",
              "      <th>pixel4</th>\n",
              "      <th>pixel5</th>\n",
              "      <th>pixel6</th>\n",
              "      <th>pixel7</th>\n",
              "      <th>pixel8</th>\n",
              "      <th>pixel9</th>\n",
              "      <th>pixel10</th>\n",
              "      <th>...</th>\n",
              "      <th>pixel775</th>\n",
              "      <th>pixel776</th>\n",
              "      <th>pixel777</th>\n",
              "      <th>pixel778</th>\n",
              "      <th>pixel779</th>\n",
              "      <th>pixel780</th>\n",
              "      <th>pixel781</th>\n",
              "      <th>pixel782</th>\n",
              "      <th>pixel783</th>\n",
              "      <th>pixel784</th>\n",
              "    </tr>\n",
              "  </thead>\n",
              "  <tbody>\n",
              "    <tr>\n",
              "      <th>0</th>\n",
              "      <td>0.0</td>\n",
              "      <td>0.0</td>\n",
              "      <td>0.0</td>\n",
              "      <td>0.0</td>\n",
              "      <td>0.0</td>\n",
              "      <td>0.0</td>\n",
              "      <td>0.0</td>\n",
              "      <td>0.0</td>\n",
              "      <td>0.0</td>\n",
              "      <td>0.0</td>\n",
              "      <td>...</td>\n",
              "      <td>0.0</td>\n",
              "      <td>0.0</td>\n",
              "      <td>0.0</td>\n",
              "      <td>0.0</td>\n",
              "      <td>0.0</td>\n",
              "      <td>0.0</td>\n",
              "      <td>0.0</td>\n",
              "      <td>0.0</td>\n",
              "      <td>0.0</td>\n",
              "      <td>0.0</td>\n",
              "    </tr>\n",
              "    <tr>\n",
              "      <th>1</th>\n",
              "      <td>0.0</td>\n",
              "      <td>0.0</td>\n",
              "      <td>0.0</td>\n",
              "      <td>0.0</td>\n",
              "      <td>0.0</td>\n",
              "      <td>0.0</td>\n",
              "      <td>0.0</td>\n",
              "      <td>0.0</td>\n",
              "      <td>0.0</td>\n",
              "      <td>0.0</td>\n",
              "      <td>...</td>\n",
              "      <td>0.0</td>\n",
              "      <td>0.0</td>\n",
              "      <td>0.0</td>\n",
              "      <td>0.0</td>\n",
              "      <td>0.0</td>\n",
              "      <td>0.0</td>\n",
              "      <td>0.0</td>\n",
              "      <td>0.0</td>\n",
              "      <td>0.0</td>\n",
              "      <td>0.0</td>\n",
              "    </tr>\n",
              "    <tr>\n",
              "      <th>2</th>\n",
              "      <td>0.0</td>\n",
              "      <td>0.0</td>\n",
              "      <td>0.0</td>\n",
              "      <td>0.0</td>\n",
              "      <td>0.0</td>\n",
              "      <td>0.0</td>\n",
              "      <td>0.0</td>\n",
              "      <td>0.0</td>\n",
              "      <td>0.0</td>\n",
              "      <td>0.0</td>\n",
              "      <td>...</td>\n",
              "      <td>0.0</td>\n",
              "      <td>0.0</td>\n",
              "      <td>0.0</td>\n",
              "      <td>0.0</td>\n",
              "      <td>0.0</td>\n",
              "      <td>0.0</td>\n",
              "      <td>0.0</td>\n",
              "      <td>0.0</td>\n",
              "      <td>0.0</td>\n",
              "      <td>0.0</td>\n",
              "    </tr>\n",
              "    <tr>\n",
              "      <th>3</th>\n",
              "      <td>0.0</td>\n",
              "      <td>0.0</td>\n",
              "      <td>0.0</td>\n",
              "      <td>0.0</td>\n",
              "      <td>0.0</td>\n",
              "      <td>0.0</td>\n",
              "      <td>0.0</td>\n",
              "      <td>0.0</td>\n",
              "      <td>0.0</td>\n",
              "      <td>0.0</td>\n",
              "      <td>...</td>\n",
              "      <td>0.0</td>\n",
              "      <td>0.0</td>\n",
              "      <td>0.0</td>\n",
              "      <td>0.0</td>\n",
              "      <td>0.0</td>\n",
              "      <td>0.0</td>\n",
              "      <td>0.0</td>\n",
              "      <td>0.0</td>\n",
              "      <td>0.0</td>\n",
              "      <td>0.0</td>\n",
              "    </tr>\n",
              "    <tr>\n",
              "      <th>4</th>\n",
              "      <td>0.0</td>\n",
              "      <td>0.0</td>\n",
              "      <td>0.0</td>\n",
              "      <td>0.0</td>\n",
              "      <td>0.0</td>\n",
              "      <td>0.0</td>\n",
              "      <td>0.0</td>\n",
              "      <td>0.0</td>\n",
              "      <td>0.0</td>\n",
              "      <td>0.0</td>\n",
              "      <td>...</td>\n",
              "      <td>0.0</td>\n",
              "      <td>0.0</td>\n",
              "      <td>0.0</td>\n",
              "      <td>0.0</td>\n",
              "      <td>0.0</td>\n",
              "      <td>0.0</td>\n",
              "      <td>0.0</td>\n",
              "      <td>0.0</td>\n",
              "      <td>0.0</td>\n",
              "      <td>0.0</td>\n",
              "    </tr>\n",
              "  </tbody>\n",
              "</table>\n",
              "<p>5 rows × 784 columns</p>\n",
              "</div>\n",
              "      <button class=\"colab-df-convert\" onclick=\"convertToInteractive('df-109effac-185e-45cf-a8d5-32452f0ee024')\"\n",
              "              title=\"Convert this dataframe to an interactive table.\"\n",
              "              style=\"display:none;\">\n",
              "        \n",
              "  <svg xmlns=\"http://www.w3.org/2000/svg\" height=\"24px\"viewBox=\"0 0 24 24\"\n",
              "       width=\"24px\">\n",
              "    <path d=\"M0 0h24v24H0V0z\" fill=\"none\"/>\n",
              "    <path d=\"M18.56 5.44l.94 2.06.94-2.06 2.06-.94-2.06-.94-.94-2.06-.94 2.06-2.06.94zm-11 1L8.5 8.5l.94-2.06 2.06-.94-2.06-.94L8.5 2.5l-.94 2.06-2.06.94zm10 10l.94 2.06.94-2.06 2.06-.94-2.06-.94-.94-2.06-.94 2.06-2.06.94z\"/><path d=\"M17.41 7.96l-1.37-1.37c-.4-.4-.92-.59-1.43-.59-.52 0-1.04.2-1.43.59L10.3 9.45l-7.72 7.72c-.78.78-.78 2.05 0 2.83L4 21.41c.39.39.9.59 1.41.59.51 0 1.02-.2 1.41-.59l7.78-7.78 2.81-2.81c.8-.78.8-2.07 0-2.86zM5.41 20L4 18.59l7.72-7.72 1.47 1.35L5.41 20z\"/>\n",
              "  </svg>\n",
              "      </button>\n",
              "      \n",
              "  <style>\n",
              "    .colab-df-container {\n",
              "      display:flex;\n",
              "      flex-wrap:wrap;\n",
              "      gap: 12px;\n",
              "    }\n",
              "\n",
              "    .colab-df-convert {\n",
              "      background-color: #E8F0FE;\n",
              "      border: none;\n",
              "      border-radius: 50%;\n",
              "      cursor: pointer;\n",
              "      display: none;\n",
              "      fill: #1967D2;\n",
              "      height: 32px;\n",
              "      padding: 0 0 0 0;\n",
              "      width: 32px;\n",
              "    }\n",
              "\n",
              "    .colab-df-convert:hover {\n",
              "      background-color: #E2EBFA;\n",
              "      box-shadow: 0px 1px 2px rgba(60, 64, 67, 0.3), 0px 1px 3px 1px rgba(60, 64, 67, 0.15);\n",
              "      fill: #174EA6;\n",
              "    }\n",
              "\n",
              "    [theme=dark] .colab-df-convert {\n",
              "      background-color: #3B4455;\n",
              "      fill: #D2E3FC;\n",
              "    }\n",
              "\n",
              "    [theme=dark] .colab-df-convert:hover {\n",
              "      background-color: #434B5C;\n",
              "      box-shadow: 0px 1px 3px 1px rgba(0, 0, 0, 0.15);\n",
              "      filter: drop-shadow(0px 1px 2px rgba(0, 0, 0, 0.3));\n",
              "      fill: #FFFFFF;\n",
              "    }\n",
              "  </style>\n",
              "\n",
              "      <script>\n",
              "        const buttonEl =\n",
              "          document.querySelector('#df-109effac-185e-45cf-a8d5-32452f0ee024 button.colab-df-convert');\n",
              "        buttonEl.style.display =\n",
              "          google.colab.kernel.accessAllowed ? 'block' : 'none';\n",
              "\n",
              "        async function convertToInteractive(key) {\n",
              "          const element = document.querySelector('#df-109effac-185e-45cf-a8d5-32452f0ee024');\n",
              "          const dataTable =\n",
              "            await google.colab.kernel.invokeFunction('convertToInteractive',\n",
              "                                                     [key], {});\n",
              "          if (!dataTable) return;\n",
              "\n",
              "          const docLinkHtml = 'Like what you see? Visit the ' +\n",
              "            '<a target=\"_blank\" href=https://colab.research.google.com/notebooks/data_table.ipynb>data table notebook</a>'\n",
              "            + ' to learn more about interactive tables.';\n",
              "          element.innerHTML = '';\n",
              "          dataTable['output_type'] = 'display_data';\n",
              "          await google.colab.output.renderOutput(dataTable, element);\n",
              "          const docLink = document.createElement('div');\n",
              "          docLink.innerHTML = docLinkHtml;\n",
              "          element.appendChild(docLink);\n",
              "        }\n",
              "      </script>\n",
              "    </div>\n",
              "  </div>\n",
              "  "
            ]
          },
          "metadata": {},
          "execution_count": 42
        }
      ]
    },
    {
      "cell_type": "code",
      "source": [
        "X = X / 255.0"
      ],
      "metadata": {
        "id": "1Pt8jEjuRjfC"
      },
      "execution_count": 43,
      "outputs": []
    },
    {
      "cell_type": "code",
      "source": [
        ""
      ],
      "metadata": {
        "id": "08pkC8hBRvWZ"
      },
      "execution_count": null,
      "outputs": []
    }
  ],
  "metadata": {
    "kernelspec": {
      "display_name": "Python 3 (ipykernel)",
      "language": "python",
      "name": "python3"
    },
    "language_info": {
      "codemirror_mode": {
        "name": "ipython",
        "version": 3
      },
      "file_extension": ".py",
      "mimetype": "text/x-python",
      "name": "python",
      "nbconvert_exporter": "python",
      "pygments_lexer": "ipython3",
      "version": "3.9.7"
    },
    "colab": {
      "name": "clustering.ipynb\"",
      "provenance": [],
      "collapsed_sections": []
    }
  },
  "nbformat": 4,
  "nbformat_minor": 0
}